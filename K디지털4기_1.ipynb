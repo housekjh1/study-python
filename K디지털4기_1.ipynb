{
  "nbformat": 4,
  "nbformat_minor": 0,
  "metadata": {
    "colab": {
      "provenance": [],
      "authorship_tag": "ABX9TyMkN3VdsUE/y47lhNYfsVp1",
      "include_colab_link": true
    },
    "kernelspec": {
      "name": "python3",
      "display_name": "Python 3"
    },
    "language_info": {
      "name": "python"
    }
  },
  "cells": [
    {
      "cell_type": "markdown",
      "metadata": {
        "id": "view-in-github",
        "colab_type": "text"
      },
      "source": [
        "<a href=\"https://colab.research.google.com/github/housekjh1/study-python/blob/main/K%EB%94%94%EC%A7%80%ED%84%B84%EA%B8%B0_1.ipynb\" target=\"_parent\"><img src=\"https://colab.research.google.com/assets/colab-badge.svg\" alt=\"Open In Colab\"/></a>"
      ]
    },
    {
      "cell_type": "markdown",
      "source": [
        "사칙연산 계산"
      ],
      "metadata": {
        "id": "XVPflad1Z6CS"
      }
    },
    {
      "cell_type": "code",
      "execution_count": null,
      "metadata": {
        "id": "QutvDTE-ZQti"
      },
      "outputs": [],
      "source": [
        "3+5"
      ]
    },
    {
      "cell_type": "markdown",
      "source": [
        "예약어"
      ],
      "metadata": {
        "id": "o6iHAsZccJl2"
      }
    },
    {
      "cell_type": "code",
      "source": [
        "import keyword\n",
        "\n",
        "print(keyword.kwlist)"
      ],
      "metadata": {
        "id": "rlFb2HzUcLaF",
        "colab": {
          "base_uri": "https://localhost:8080/"
        },
        "outputId": "ba1079e4-9eb3-4c1b-f5eb-6855f4433d3a"
      },
      "execution_count": null,
      "outputs": [
        {
          "output_type": "stream",
          "name": "stdout",
          "text": [
            "['False', 'None', 'True', 'and', 'as', 'assert', 'async', 'await', 'break', 'class', 'continue', 'def', 'del', 'elif', 'else', 'except', 'finally', 'for', 'from', 'global', 'if', 'import', 'in', 'is', 'lambda', 'nonlocal', 'not', 'or', 'pass', 'raise', 'return', 'try', 'while', 'with', 'yield']\n"
          ]
        }
      ]
    },
    {
      "cell_type": "markdown",
      "source": [
        "복소수\n",
        "1. 생성\n",
        "2. 연산\n",
        "3. 출력"
      ],
      "metadata": {
        "id": "XWu0hlwodzjF"
      }
    },
    {
      "cell_type": "code",
      "source": [
        "# 복소수 생성\n",
        "z1 = 2 + 3j\n",
        "z2 = complex(4, -2)\n",
        "\n",
        "# 복소수 연산\n",
        "z3 = z1 + z2\n",
        "z4 = z1 * z2\n",
        "z5 = z1 / z2\n",
        "z6 = z1 ** 2\n",
        "\n",
        "# 결과 출력\n",
        "print(z3)   # (6+1j)\n",
        "print(z4)   # (14+8j)\n",
        "print(z5)   # (0.1+0.8j)\n",
        "print(z6)   # (-5+12j)\n"
      ],
      "metadata": {
        "id": "cIQqfrtadlbg",
        "colab": {
          "base_uri": "https://localhost:8080/"
        },
        "outputId": "de16602c-3dcd-4ec4-9e58-1c6115b01a13"
      },
      "execution_count": null,
      "outputs": [
        {
          "output_type": "stream",
          "name": "stdout",
          "text": [
            "(6+1j)\n",
            "(14+8j)\n",
            "(0.1+0.8j)\n",
            "(-5+12j)\n"
          ]
        }
      ]
    },
    {
      "cell_type": "markdown",
      "source": [
        "타입 에러"
      ],
      "metadata": {
        "id": "8bbhO2hbgu5S"
      }
    },
    {
      "cell_type": "code",
      "source": [
        "num = 10\n",
        "text = \"apple\"\n",
        "print(str(num) + text)\n"
      ],
      "metadata": {
        "colab": {
          "base_uri": "https://localhost:8080/"
        },
        "id": "dMNsA6w4gd1q",
        "outputId": "69bcacfd-e506-48f9-fb46-87c4c3315c66"
      },
      "execution_count": null,
      "outputs": [
        {
          "output_type": "stream",
          "name": "stdout",
          "text": [
            "10apple\n"
          ]
        }
      ]
    },
    {
      "cell_type": "code",
      "source": [
        "num = 1.2\n",
        "print(type(num))"
      ],
      "metadata": {
        "colab": {
          "base_uri": "https://localhost:8080/"
        },
        "id": "xfYjklkfhV0d",
        "outputId": "876fbf36-0dd4-4175-a294-e0bf5d47035f"
      },
      "execution_count": null,
      "outputs": [
        {
          "output_type": "stream",
          "name": "stdout",
          "text": [
            "<class 'float'>\n"
          ]
        }
      ]
    },
    {
      "cell_type": "markdown",
      "source": [
        "리스트"
      ],
      "metadata": {
        "id": "mxotwfqIifZA"
      }
    },
    {
      "cell_type": "code",
      "source": [
        "fruits = [\"apple\", \"banana\", \"cherry\"]\n",
        "print(fruits)\n",
        "print(fruits[1])\n",
        "fruits[1] = \"orange\"\n",
        "print(fruits)\n"
      ],
      "metadata": {
        "colab": {
          "base_uri": "https://localhost:8080/"
        },
        "id": "9pd5HBPdiowU",
        "outputId": "1b52beb3-240b-441c-cc2b-beb27e26f13e"
      },
      "execution_count": null,
      "outputs": [
        {
          "output_type": "stream",
          "name": "stdout",
          "text": [
            "['apple', 'banana', 'cherry']\n",
            "banana\n",
            "['apple', 'orange', 'cherry']\n"
          ]
        }
      ]
    },
    {
      "cell_type": "markdown",
      "source": [
        "튜플"
      ],
      "metadata": {
        "id": "nc2cfiVVigyC"
      }
    },
    {
      "cell_type": "code",
      "source": [
        "fruits = (\"apple\", \"banana\", \"cherry\")\n",
        "print(fruits)\n",
        "print(fruits[1])\n"
      ],
      "metadata": {
        "colab": {
          "base_uri": "https://localhost:8080/"
        },
        "id": "R9Iedd8KiqHg",
        "outputId": "7a0b8153-579a-403e-b13e-0c5bf377c190"
      },
      "execution_count": null,
      "outputs": [
        {
          "output_type": "stream",
          "name": "stdout",
          "text": [
            "('apple', 'banana', 'cherry')\n",
            "banana\n"
          ]
        }
      ]
    },
    {
      "cell_type": "markdown",
      "source": [
        "딕셔너리"
      ],
      "metadata": {
        "id": "j5t9U9NViiC-"
      }
    },
    {
      "cell_type": "code",
      "source": [
        "fruits = {\"apple\": 3, \"banana\": 2, \"cherry\": 5}\n",
        "print(fruits)\n",
        "print(fruits[\"banana\"])\n",
        "fruits[\"orange\"] = 4\n",
        "print(fruits)\n"
      ],
      "metadata": {
        "colab": {
          "base_uri": "https://localhost:8080/"
        },
        "id": "tkYDlNHLiwaq",
        "outputId": "0f7870b5-3417-44c3-bede-be9397d18367"
      },
      "execution_count": null,
      "outputs": [
        {
          "output_type": "stream",
          "name": "stdout",
          "text": [
            "{'apple': 3, 'banana': 2, 'cherry': 5}\n",
            "2\n",
            "{'apple': 3, 'banana': 2, 'cherry': 5, 'orange': 4}\n"
          ]
        }
      ]
    },
    {
      "cell_type": "markdown",
      "source": [
        "멤버쉽 연산자"
      ],
      "metadata": {
        "id": "msZzNfCjnxn2"
      }
    },
    {
      "cell_type": "code",
      "source": [
        "# 멤버쉽 연산자 사용 예제\n",
        "a = [1, 2, 3, 4, 5]\n",
        "b = \"Hello, World!\"\n",
        "print(3 in a)  # True 출력\n",
        "print(6 in a)  # False 출력\n",
        "print(\"o\" in b)  # True 출력\n",
        "print(\"k\" not in b)  # True 출력"
      ],
      "metadata": {
        "colab": {
          "base_uri": "https://localhost:8080/"
        },
        "id": "D6g1_0hjnzw7",
        "outputId": "15df8142-053c-4f98-a3a1-4705b9c72b0c"
      },
      "execution_count": null,
      "outputs": [
        {
          "output_type": "stream",
          "name": "stdout",
          "text": [
            "True\n",
            "False\n",
            "True\n",
            "True\n"
          ]
        }
      ]
    },
    {
      "cell_type": "markdown",
      "source": [
        "포매팅"
      ],
      "metadata": {
        "id": "oXp-81AEsQq5"
      }
    },
    {
      "cell_type": "code",
      "source": [
        "# % 연산자를 이용한 포매팅\n",
        "name = \"John\"\n",
        "age = 30\n",
        "height = 175.5\n",
        "\n",
        "text = \"My name is %s, I'm %d years old, and my height is %.1f.\" % (name, age, height)\n",
        "\n",
        "print(text)\n",
        "# 출력 결과: \"My name is John, I'm 30 years old, and my height is 175.5.\"\n"
      ],
      "metadata": {
        "colab": {
          "base_uri": "https://localhost:8080/"
        },
        "id": "JslWSY-CqfGr",
        "outputId": "92ae02a0-da86-4168-99f6-3d2b36926132"
      },
      "execution_count": null,
      "outputs": [
        {
          "output_type": "stream",
          "name": "stdout",
          "text": [
            "My name is John, I'm 30 years old, and my height is 175.5.\n"
          ]
        }
      ]
    },
    {
      "cell_type": "code",
      "source": [
        "# 출력 형식 지정 예제\n",
        "num = 10\n",
        "pi = 3.14159265\n",
        "\n",
        "print(\"num = %d\" % num)  # 출력 결과: \"num = 10\"\n",
        "print(\"pi = %f\" % pi)  # 출력 결과: \"pi = 3.141593\"\n",
        "print(\"pi = %.2f\" % pi)  # 출력 결과: \"pi = 3.14\"\n",
        "print(\"pi = %10.2f\" % pi)  # 출력 결과: \"pi =       3.14\""
      ],
      "metadata": {
        "colab": {
          "base_uri": "https://localhost:8080/"
        },
        "id": "iLU7ZdNVsSRR",
        "outputId": "ad61ef9d-dc7c-4c19-a79c-d6cedd2af24d"
      },
      "execution_count": null,
      "outputs": [
        {
          "output_type": "stream",
          "name": "stdout",
          "text": [
            "num = 10\n",
            "pi = 3.141593\n",
            "pi = 3.14\n",
            "pi =       3.14\n"
          ]
        }
      ]
    },
    {
      "cell_type": "code",
      "source": [
        "# format() 메소드를 이용한 포매팅\n",
        "name = \"John\"\n",
        "age = 30\n",
        "height = 175.5\n",
        "\n",
        "text = \"My name is {}, I'm {} years old, and my height is {:.1f}.\".format(name, age, height)\n",
        "\n",
        "print(text)\n",
        "# 출력 결과: \"My name is John, I'm 30 years old, and my height is 175.5.\"\n",
        "\n",
        "# 인덱스를 이용한 포매팅 예제\n",
        "name = \"John\"\n",
        "age = 30\n",
        "height = 175.5\n",
        "\n",
        "print(\"My name is {0}, I'm {1} years old, and my height is {2:.1f}.\".format(name, age, height))\n",
        "# 출력 결과: \"My name is John, I'm 30 years old, and my height is 175.5.\"\n",
        "\n",
        "# 문자열\n",
        "name = \"John\"\n",
        "print(\"Hello, {}!\".format(name))\n",
        "\n",
        "# 정수\n",
        "num = 42\n",
        "print(\"The answer is {}.\".format(num))\n",
        "\n",
        "# 실수\n",
        "pi = 3.14159\n",
        "print(\"Pi is approximately {:.2f}.\".format(pi))\n",
        "\n",
        "# 여러 개의 변수\n",
        "first_name = \"Jane\"\n",
        "last_name = \"Doe\"\n",
        "age = 25\n",
        "print(\"My name is {} {} and I am {} years old.\".format(first_name, last_name, age))\n",
        "\n",
        "# 인덱스를 이용한 대입\n",
        "first_name = \"Jane\"\n",
        "last_name = \"Doe\"\n",
        "age = 25\n",
        "print(\"My name is {1} {0} and I am {2} years old.\".format(last_name, first_name, age))\n"
      ],
      "metadata": {
        "colab": {
          "base_uri": "https://localhost:8080/"
        },
        "id": "AUKrkcRts5D0",
        "outputId": "7650c1c2-60da-4fd2-81b6-7c69edd17d37"
      },
      "execution_count": null,
      "outputs": [
        {
          "output_type": "stream",
          "name": "stdout",
          "text": [
            "My name is John, I'm 30 years old, and my height is 175.5.\n",
            "My name is John, I'm 30 years old, and my height is 175.5.\n",
            "Hello, John!\n",
            "The answer is 42.\n",
            "Pi is approximately 3.14.\n",
            "My name is Jane Doe and I am 25 years old.\n",
            "My name is Jane Doe and I am 25 years old.\n"
          ]
        }
      ]
    },
    {
      "cell_type": "code",
      "source": [
        "# f-string을 이용한 문자열 포매팅\n",
        "name = \"John\"\n",
        "age = 30\n",
        "height = 175.5\n",
        "\n",
        "print(f\"My name is {name}, I'm {age} years old, and my height is {height:.1f}.\")\n",
        "# 출력 결과: \"My name is John, I'm 30 years old, and my height is 175.5.\"\n"
      ],
      "metadata": {
        "colab": {
          "base_uri": "https://localhost:8080/"
        },
        "id": "5kHykIa3uDBW",
        "outputId": "8fabb372-913c-4c39-e50f-90db9e28a8cd"
      },
      "execution_count": null,
      "outputs": [
        {
          "output_type": "stream",
          "name": "stdout",
          "text": [
            "My name is John, I'm 30 years old, and my height is 175.5.\n"
          ]
        }
      ]
    },
    {
      "cell_type": "code",
      "source": [
        "name = \"Tom\"\n",
        "age = 20\n",
        "\n",
        "print(f\"My name is {name} and I am {age} years old.\")\n",
        "print(\"My name is {} and I am {} years old.\" .format(name, age))\n",
        "print(\"My name is %s and I am %d years old.\" % (name, age))"
      ],
      "metadata": {
        "colab": {
          "base_uri": "https://localhost:8080/"
        },
        "id": "GpawhHPEuxHG",
        "outputId": "5f17436f-317a-4dde-f43b-c6646ee83212"
      },
      "execution_count": null,
      "outputs": [
        {
          "output_type": "stream",
          "name": "stdout",
          "text": [
            "My name is Tom and I am 20 years old.\n",
            "My name is Tom and I am 20 years old.\n",
            "My name is Tom and I am 20 years old.\n"
          ]
        }
      ]
    },
    {
      "cell_type": "code",
      "source": [
        "a = 1\n",
        "b = 2\n",
        "c = 3\n",
        "\n",
        "print(f\"I have {c} apples, {b} oranges, and {a} banana.\")"
      ],
      "metadata": {
        "colab": {
          "base_uri": "https://localhost:8080/"
        },
        "id": "v88Ox75Ivl_7",
        "outputId": "10d1c9cf-f0ec-43ed-fb7b-19d02c45ccf1"
      },
      "execution_count": null,
      "outputs": [
        {
          "output_type": "stream",
          "name": "stdout",
          "text": [
            "I have 3 apples, 2 oranges, and 1 banana.\n"
          ]
        }
      ]
    },
    {
      "cell_type": "code",
      "source": [
        "a = 1.2312\n",
        "\n",
        "print(f\"The result is {a:.2f}.\")"
      ],
      "metadata": {
        "colab": {
          "base_uri": "https://localhost:8080/"
        },
        "id": "EPZL1q93v6cn",
        "outputId": "7ca3cd64-c341-4871-da18-ea6354d878e5"
      },
      "execution_count": null,
      "outputs": [
        {
          "output_type": "stream",
          "name": "stdout",
          "text": [
            "The result is 1.23.\n"
          ]
        }
      ]
    },
    {
      "cell_type": "code",
      "source": [
        "a = 90\n",
        "\n",
        "print(f\"Your score is {a}%.\")"
      ],
      "metadata": {
        "colab": {
          "base_uri": "https://localhost:8080/"
        },
        "id": "NgJl_IQ0wCDS",
        "outputId": "4f002722-e28d-4a97-e1be-4cbc321268da"
      },
      "execution_count": null,
      "outputs": [
        {
          "output_type": "stream",
          "name": "stdout",
          "text": [
            "Your score is 90%.\n"
          ]
        }
      ]
    },
    {
      "cell_type": "code",
      "source": [
        "a = 10\n",
        "b = 20\n",
        "c = a + b\n",
        "\n",
        "print(f\"{a} + {b} = {c}\")"
      ],
      "metadata": {
        "colab": {
          "base_uri": "https://localhost:8080/"
        },
        "id": "yeb5ZQZXwQSq",
        "outputId": "17ce6648-b0e6-4785-eaca-d09f4d88e1cc"
      },
      "execution_count": null,
      "outputs": [
        {
          "output_type": "stream",
          "name": "stdout",
          "text": [
            "10 + 20 = 30\n"
          ]
        }
      ]
    },
    {
      "cell_type": "markdown",
      "source": [
        "Input"
      ],
      "metadata": {
        "id": "H1ipSC8CzOaU"
      }
    },
    {
      "cell_type": "code",
      "source": [
        "# input() 함수를 이용하여 사용자로부터 입력 받기\n",
        "name = input(\"What is your name? \")\n",
        "print(f\"Hello, {name}!\")\n"
      ],
      "metadata": {
        "colab": {
          "base_uri": "https://localhost:8080/"
        },
        "id": "nTyhDeIZzPyG",
        "outputId": "7e937a01-1584-4849-a4db-d2676598e593"
      },
      "execution_count": null,
      "outputs": [
        {
          "output_type": "stream",
          "name": "stdout",
          "text": [
            "What is your name? LIMNB\n",
            "Hello, LIMNB!\n"
          ]
        }
      ]
    },
    {
      "cell_type": "markdown",
      "source": [
        "Input은 문자열로 반환됨"
      ],
      "metadata": {
        "id": "36bj82-f0UVb"
      }
    },
    {
      "cell_type": "code",
      "source": [
        "# input() 함수를 이용하여 사용자로부터 입력받아 계산하기\n",
        "num1 = input(\"첫 번째 정수를 입력하세요: \")\n",
        "num1 = int(num1)\n",
        "num2 = int(input(\"두 번째 정수를 입력하세요: \"))\n",
        "\n",
        "addition = num1 + num2\n",
        "subtraction = num1 - num2\n",
        "multiplication = num1 * num2\n",
        "division = num1 / num2\n",
        "\n",
        "print(f\"{num1} + {num2} = {addition}\")\n",
        "print(f\"{num1} - {num2} = {subtraction}\")\n",
        "print(f\"{num1} * {num2} = {multiplication}\")\n",
        "print(f\"{num1} / {num2} = {division:.2f}\")\n"
      ],
      "metadata": {
        "colab": {
          "base_uri": "https://localhost:8080/"
        },
        "id": "cWbC_Iqhzzm5",
        "outputId": "8d64971d-85dd-4e47-c887-ebb28535db9c"
      },
      "execution_count": null,
      "outputs": [
        {
          "output_type": "stream",
          "name": "stdout",
          "text": [
            "첫 번째 정수를 입력하세요: 10\n",
            "두 번째 정수를 입력하세요: 20\n",
            "10 + 20 = 30\n",
            "10 - 20 = -10\n",
            "10 * 20 = 200\n",
            "10 / 20 = 0.50\n"
          ]
        }
      ]
    },
    {
      "cell_type": "code",
      "source": [
        "# input(), 포매팅, 산술식을 이용하여 계산하기\n",
        "num1 = int(input(\"첫 번째 숫자를 입력하세요: \"))\n",
        "num2 = int(input(\"두 번째 숫자를 입력하세요: \"))\n",
        "\n",
        "result = f\"\"\"\n",
        "입력한 숫자:\n",
        "첫 번째 숫자: {num1}\n",
        "두 번째 숫자: {num2}\n",
        "\n",
        "산술 연산 결과:\n",
        "{num1} + {num2} = {num1 + num2}\n",
        "{num1} - {num2} = {num1 - num2}\n",
        "{num1} * {num2} = {num1 * num2}\n",
        "{num1} / {num2} = {num1 / num2:.2f}\n",
        "\"\"\"\n",
        "\n",
        "print(result)"
      ],
      "metadata": {
        "colab": {
          "base_uri": "https://localhost:8080/"
        },
        "id": "qQgELG7R01eH",
        "outputId": "9823522c-96cd-4883-aa20-384a3d3f4796"
      },
      "execution_count": null,
      "outputs": [
        {
          "output_type": "stream",
          "name": "stdout",
          "text": [
            "첫 번째 숫자를 입력하세요: 10\n",
            "두 번째 숫자를 입력하세요: 20\n",
            "\n",
            "입력한 숫자:\n",
            "첫 번째 숫자: 10\n",
            "두 번째 숫자: 20\n",
            "\n",
            "산술 연산 결과:\n",
            "10 + 20 = 30\n",
            "10 - 20 = -10\n",
            "10 * 20 = 200\n",
            "10 / 20 = 0.50\n",
            "\n"
          ]
        }
      ]
    },
    {
      "cell_type": "code",
      "source": [
        "# 사과 쇼핑몰\n",
        "qty = int(input(\"사과의 개수를 입력하세요.: \"))\n",
        "price = int(input(\"사과의 갯수당 가격을 입력하세요.: \"))\n",
        "tax = float(input(\"부가세율을 입력하세요(%).: \"))/100\n",
        "'''\n",
        "result = f\"\"\"\n",
        "입력한 숫자:\n",
        "갯수: {qty}\n",
        "개당 가격: {price}\n",
        "부가세율: {tax}\n",
        "총가격\n",
        "\n",
        "총가격:\n",
        "{qty} * {price} * {tax} = {qty * price + (qty * price) * tax}\n",
        "\"\"\"\n",
        "\n",
        "print(result)\n",
        "'''\n",
        "\n",
        "total_price = qty * price\n",
        "total_tax = total_price * tax\n",
        "output_price = total_price + total_tax\n",
        "\n",
        "output = f\"[결제 금액]\\n사과가격:{price}원\\n수량:{qty}개\\n부가세:{int(total_tax)}원\\n총 가격:{int(output_price)}원\"\n",
        "print(output)"
      ],
      "metadata": {
        "colab": {
          "base_uri": "https://localhost:8080/"
        },
        "id": "htjp12tK1FO8",
        "outputId": "6bd6186f-6fbd-4905-fcb6-1ca273c71a0c"
      },
      "execution_count": null,
      "outputs": [
        {
          "output_type": "stream",
          "name": "stdout",
          "text": [
            "사과의 개수를 입력하세요.: 10\n",
            "사과의 갯수당 가격을 입력하세요.: 600\n",
            "부가세율을 입력하세요(%).: 10\n",
            "[결제 금액]\n",
            "사과가격:600원\n",
            "수량:10개\n",
            "부가세:600원\n",
            "총 가격:6600원\n"
          ]
        }
      ]
    },
    {
      "cell_type": "markdown",
      "source": [
        "추가문제\n",
        "\n",
        "- 초를 입력하면 분과 초로 표시하는 프로그램. 예를 들어, 200초를 입력하면 3분 20초로 표현하라\n",
        "\n",
        "- 분(min)을 입력 하면, 일, 시간, 분으로 출력하는 프로그램을 만들어라. (예 : 1550분은 1일 1시간 50분)\n",
        "\n",
        "- 500만원을 년이율 5%로 복리 저금했을 때 5년 후의 원리금의 합계를 출력하는 프로그램\n",
        "\n",
        "- 1부터 n까지의 합은 n(n+1)/2로 주어진다. 1부터 100까지의 합을 구하여 출력하는 프로그램을 작성하고 실행하라.\n",
        "\n",
        "- 판매자가 딸기와 포도를 판매하고 있다. 포도 한 알의 무게는 75g이고 딸기 한 알의 무게는 113.5g이다. 사용자로부터 포도 알의 개수와 딸기의 개수를 입력 받아 총 무게를 계산하여 출력하는 프로그램을 작성하고 실행하라.\n"
      ],
      "metadata": {
        "id": "k70Mav3R4skE"
      }
    },
    {
      "cell_type": "code",
      "source": [
        "sec = int(input(\"초를 입력하세요.: \"))\n",
        "\n",
        "min = sec // 60\n",
        "output_sec = sec % 60\n",
        "\n",
        "output = f\"{sec}은/는 {min}분 {output_sec}초입니다.\"\n",
        "print(output)"
      ],
      "metadata": {
        "colab": {
          "base_uri": "https://localhost:8080/"
        },
        "id": "z7mGJxpb5KhY",
        "outputId": "ef0c8726-d311-4b80-ea6d-dc2af2d70b2f"
      },
      "execution_count": null,
      "outputs": [
        {
          "output_type": "stream",
          "name": "stdout",
          "text": [
            "초를 입력하세요.: 200\n",
            "200은/는 3분 20초입니다.\n"
          ]
        }
      ]
    },
    {
      "cell_type": "code",
      "source": [
        "total_min = int(input(\"분을 입력하세요.: \"))\n",
        "\n",
        "d = total_min // (24 * 60)\n",
        "h = (total_min // 60) % 24\n",
        "m = total_min % 60\n",
        "print(f'{total_min}분은 {d}일 {h}시간 {m}분입니다.')"
      ],
      "metadata": {
        "colab": {
          "base_uri": "https://localhost:8080/"
        },
        "id": "wxqKjRyg6Imn",
        "outputId": "3706106c-2a6b-45da-8a4c-a62c46fa9264"
      },
      "execution_count": null,
      "outputs": [
        {
          "output_type": "stream",
          "name": "stdout",
          "text": [
            "분을 입력하세요.: 1550\n",
            "1550분은 1일 1시간 50분입니다.\n"
          ]
        }
      ]
    },
    {
      "cell_type": "code",
      "source": [
        "원금 = int(input(\"원금을 입력하세요.: \"))\n",
        "이율 = float(input(\"이율을 입력하세요.(%): \"))/100\n",
        "총액 = 원금*(1+이율)**5\n",
        "print(f\"5년 후의 총액은 {int(총액)}원입니다.\")"
      ],
      "metadata": {
        "colab": {
          "base_uri": "https://localhost:8080/"
        },
        "id": "5qo3U8lv7ZxT",
        "outputId": "10e2b78a-9ab5-40dd-96e7-20931c393d7c"
      },
      "execution_count": null,
      "outputs": [
        {
          "output_type": "stream",
          "name": "stdout",
          "text": [
            "원금을 입력하세요.: 5000000\n",
            "이율을 입력하세요.(%): 5\n",
            "5년 후의 총액은 6381407원입니다.\n"
          ]
        }
      ]
    },
    {
      "cell_type": "code",
      "source": [
        "n = 100\n",
        "total = n*(n+1)/2\n",
        "print(f\"1부터 100까지의 합은 {int(total)}입니다.\")"
      ],
      "metadata": {
        "colab": {
          "base_uri": "https://localhost:8080/"
        },
        "id": "3ad0g4Kf8kD7",
        "outputId": "3d12d74a-0082-42c6-bb6a-6fecf4fa0a2f"
      },
      "execution_count": null,
      "outputs": [
        {
          "output_type": "stream",
          "name": "stdout",
          "text": [
            "1부터 100까지의 합은 5050입니다.\n"
          ]
        }
      ]
    },
    {
      "cell_type": "code",
      "source": [
        "grapes = int(input(\"포도 알의 갯수를 입력하세요.: \"))\n",
        "berries = int(input(\"딸기 알의 갯수를 입력하세요.: \"))\n",
        "\n",
        "total_g = grapes * 75\n",
        "total_b = berries * 113.5\n",
        "total_weight = total_g + total_b\n",
        "print(f\"포도와 딸기의 총 무게는 {total_weight}g입니다.\")"
      ],
      "metadata": {
        "colab": {
          "base_uri": "https://localhost:8080/"
        },
        "id": "JyMoIAlR84H_",
        "outputId": "37b0e452-7964-46a2-a412-b70422ab3902"
      },
      "execution_count": null,
      "outputs": [
        {
          "output_type": "stream",
          "name": "stdout",
          "text": [
            "포도 알의 갯수를 입력하세요.: 20\n",
            "딸기 알의 갯수를 입력하세요.: 8\n",
            "포도와 딸기의 총 무게는 2408.0g입니다.\n"
          ]
        }
      ]
    },
    {
      "cell_type": "markdown",
      "source": [
        "조건문"
      ],
      "metadata": {
        "id": "c9QZLxGYBKXc"
      }
    },
    {
      "cell_type": "code",
      "source": [
        "# 사용자로부터 성적을 입력받아, 학점 부여하기\n",
        "score = int(input(\"성적을 입력하세요: \"))\n",
        "\n",
        "if score >= 90:\n",
        "    grade = \"A\"\n",
        "elif score >= 80:\n",
        "    grade = \"B\"\n",
        "elif score >= 70:\n",
        "    grade = \"C\"\n",
        "elif score >= 60:\n",
        "    grade = \"D\"\n",
        "else:\n",
        "    grade = \"F\"\n",
        "\n",
        "print(f\"당신의 학점은 {grade}입니다.\")\n"
      ],
      "metadata": {
        "colab": {
          "base_uri": "https://localhost:8080/"
        },
        "id": "XZhf3fSUBLeL",
        "outputId": "b378e2c1-6d5a-4bb9-b3fc-eba04320d2eb"
      },
      "execution_count": null,
      "outputs": [
        {
          "output_type": "stream",
          "name": "stdout",
          "text": [
            "성적을 입력하세요: 90\n",
            "당신의 학점은 A입니다.\n"
          ]
        }
      ]
    },
    {
      "cell_type": "code",
      "source": [
        "string = input(\"문자열을 입력하세요: \")\n",
        "length = len(string) #if string else 0\n",
        "print(\"문자열의 길이는\", length, \"입니다.\")\n"
      ],
      "metadata": {
        "colab": {
          "base_uri": "https://localhost:8080/"
        },
        "id": "CvvSESyEDHSk",
        "outputId": "d2d0ed9b-3c00-4971-a1d5-872e862a4496"
      },
      "execution_count": null,
      "outputs": [
        {
          "output_type": "stream",
          "name": "stdout",
          "text": [
            "문자열을 입력하세요: dsa\n",
            "문자열의 길이는 3 입니다.\n"
          ]
        }
      ]
    },
    {
      "cell_type": "code",
      "source": [
        "국어 = int(input(\"국어 성적을 입력하십시오.: \"))\n",
        "영어 = int(input(\"영어 성적을 입력하십시오.: \"))\n",
        "수학 = int(input(\"수학 성적을 입력하십시오.: \"))\n",
        "가중치 = 국어*0.4+영어*0.4+수학*0.2\n",
        "평균 = float(가중치)\n",
        "\n",
        "if 평균 >= 90:\n",
        "  학점 = 'A'\n",
        "elif 평균 >= 80:\n",
        "  학점 = 'B'\n",
        "elif 평균 >= 70:\n",
        "  학점 = 'C'\n",
        "elif 평균 >= 60:\n",
        "  학점 = 'D'\n",
        "else:\n",
        "  학점 = 'F'\n",
        "\n",
        "result = f\"[성적 결과]\\n국어: {국어}점, 영어: {영어}점, 수학: {수학}점\\n총 평균 점수: {평균:.2f}점\\n학점: {학점}\"\n",
        "print(result)"
      ],
      "metadata": {
        "colab": {
          "base_uri": "https://localhost:8080/"
        },
        "id": "OGSPZmFADiSl",
        "outputId": "3e8786b7-cde3-41ae-8c11-2d00a952ccda"
      },
      "execution_count": null,
      "outputs": [
        {
          "output_type": "stream",
          "name": "stdout",
          "text": [
            "국어 성적을 입력하십시오.: 100\n",
            "영어 성적을 입력하십시오.: 50\n",
            "수학 성적을 입력하십시오.: 75\n",
            "[성적 결과]\n",
            "국어: 100점, 영어: 50점, 수학: 75점\n",
            "총 평균 점수: 75.00점\n",
            "학점: C\n"
          ]
        }
      ]
    },
    {
      "cell_type": "code",
      "source": [
        "num = int(input(\"길이를 입력하세요.: \"))\n",
        "\n",
        "if num <= 0:\n",
        "  print(\"잘못 입력하였습니다.\")\n",
        "else:\n",
        "  cmIn = num / 2.54\n",
        "  print(f\"인치수로 변환하면 값은 다음과 같습니다.: {cmIn:.2f}In\")"
      ],
      "metadata": {
        "colab": {
          "base_uri": "https://localhost:8080/"
        },
        "id": "RqmvjBBKGYpp",
        "outputId": "b936e2e2-5c77-474d-c169-7f18af1941f1"
      },
      "execution_count": null,
      "outputs": [
        {
          "output_type": "stream",
          "name": "stdout",
          "text": [
            "길이를 입력하세요.: 200\n",
            "인치수로 변환하면 값은 다음과 같습니다.: 78.74In\n"
          ]
        }
      ]
    },
    {
      "cell_type": "code",
      "source": [
        "num = int(input(\"이수한 학점을 입력하세요.: \"))\n",
        "\n",
        "if num < 40:\n",
        "  print(\"1학년입니다.\")\n",
        "else:\n",
        "  if num < 80:\n",
        "    print(\"2학년입니다.\")\n",
        "  else:\n",
        "    print(\"졸업반입니다.\")"
      ],
      "metadata": {
        "colab": {
          "base_uri": "https://localhost:8080/"
        },
        "id": "sHMGDlqyHq7t",
        "outputId": "c511f46a-aee4-4ab1-d680-78369e78dedc"
      },
      "execution_count": null,
      "outputs": [
        {
          "output_type": "stream",
          "name": "stdout",
          "text": [
            "이수한 학점을 입력하세요.: 10\n",
            "1학년입니다.\n"
          ]
        }
      ]
    },
    {
      "cell_type": "code",
      "source": [
        "hour = int(input(\"Enter hour: \"))\n",
        "dN = int(input(\"am(1) or pm(2)?: \"))\n",
        "ahead = int(input(\"How many hours ahead?: \"))\n",
        "sum = hour + ahead\n",
        "time = (hour + ahead) % 12\n",
        "\n",
        "if dN == 1:\n",
        "  if sum < 12:\n",
        "    print(f\"New hour: {time} am\")\n",
        "  else:\n",
        "    print(f\"New hour: {time} pm\")\n",
        "\n",
        "if dN == 2:\n",
        "  if sum < 12:\n",
        "    print(f\"New hour: {time} pm\")\n",
        "  else:\n",
        "    print(f\"New hour: {time} am\")"
      ],
      "metadata": {
        "id": "mZeasEbMIYcm"
      },
      "execution_count": null,
      "outputs": []
    },
    {
      "cell_type": "code",
      "source": [
        "현재시간12 = int(input('현재 시간 (1~12)'))\n",
        "오전오후 = input(\"오전오후(am or pm)\")\n",
        "경과시간 = int(input(\"경과시간:\"))\n",
        "\n",
        "if 오전오후 == 'am':\n",
        "  현재시간24 = 현재시간12\n",
        "else:\n",
        "  현재시간24 = 현재시간12+12\n",
        "\n",
        "시간24 = (현재시간24+경과시간)%24\n",
        "\n",
        "if 시간24>12:\n",
        "  'pm'\n",
        "else:\n",
        "  'am'\n",
        "\n",
        "시간12 = 시간24%12\n",
        "\n",
        "'''미완성'''"
      ],
      "metadata": {
        "colab": {
          "base_uri": "https://localhost:8080/",
          "height": 90
        },
        "id": "rtG1ybOfjG7F",
        "outputId": "d7a82256-742a-471f-c0d4-9d3628205fc2"
      },
      "execution_count": null,
      "outputs": [
        {
          "name": "stdout",
          "output_type": "stream",
          "text": [
            "현재 시간 (1~12)8\n",
            "오전오후(am or pm)am\n",
            "경과시간:5\n"
          ]
        },
        {
          "output_type": "execute_result",
          "data": {
            "text/plain": [
              "'미완성'"
            ],
            "application/vnd.google.colaboratory.intrinsic+json": {
              "type": "string"
            }
          },
          "metadata": {},
          "execution_count": 9
        }
      ]
    },
    {
      "cell_type": "code",
      "source": [
        "max_value = 0\n",
        "while True:\n",
        "    num = int(input(\"숫자를 입력하세요: \"))\n",
        "    if num == 0:\n",
        "        break\n",
        "    if num > max_value:\n",
        "        max_value = num\n",
        "print(\"가장 큰 값: \", max_value)\n"
      ],
      "metadata": {
        "colab": {
          "base_uri": "https://localhost:8080/"
        },
        "id": "9nhSRsoEk1qq",
        "outputId": "541263f9-82e3-4bfa-f439-46ad579b4bba"
      },
      "execution_count": null,
      "outputs": [
        {
          "output_type": "stream",
          "name": "stdout",
          "text": [
            "숫자를 입력하세요: 10\n",
            "숫자를 입력하세요: 6\n",
            "숫자를 입력하세요: 5\n",
            "숫자를 입력하세요: 4\n",
            "숫자를 입력하세요: 8\n",
            "숫자를 입력하세요: 7\n",
            "숫자를 입력하세요: 2\n",
            "숫자를 입력하세요: 3\n",
            "숫자를 입력하세요: 4\n",
            "숫자를 입력하세요: 0\n",
            "가장 큰 값:  10\n"
          ]
        }
      ]
    },
    {
      "cell_type": "code",
      "source": [
        "fruits = [\"apple\", \"banana\", \"cherry\"]\n",
        "text = 'abcdefg'\n",
        "for fruit in fruits:\n",
        "    print(fruit)\n"
      ],
      "metadata": {
        "colab": {
          "base_uri": "https://localhost:8080/"
        },
        "id": "PJKwKqJ9l4s4",
        "outputId": "2bae9a98-7dff-4c14-bd29-ae93a4d2427e"
      },
      "execution_count": null,
      "outputs": [
        {
          "output_type": "stream",
          "name": "stdout",
          "text": [
            "apple\n",
            "banana\n",
            "cherry\n"
          ]
        }
      ]
    },
    {
      "cell_type": "code",
      "source": [
        "for i in range(1, 6):\n",
        "    for j in range(1, i+1):\n",
        "        print(\"*\", end=\"\")\n",
        "    print()\n",
        "\n",
        "for i in range(4, 0, -1):\n",
        "    for j in range(1, i+1):\n",
        "        print(\"*\", end=\"\")\n",
        "    print()\n"
      ],
      "metadata": {
        "colab": {
          "base_uri": "https://localhost:8080/"
        },
        "id": "yW5KBwSdnSoe",
        "outputId": "5937328b-a868-4a58-a542-d8bcc596eb0e"
      },
      "execution_count": null,
      "outputs": [
        {
          "output_type": "stream",
          "name": "stdout",
          "text": [
            "*\n",
            "**\n",
            "***\n",
            "****\n",
            "*****\n",
            "****\n",
            "***\n",
            "**\n",
            "*\n"
          ]
        }
      ]
    },
    {
      "cell_type": "code",
      "source": [
        "print('he\\nllo')\n",
        "print('hello')\n",
        "print('hello', end=\"\") #개행을 막아줌\n",
        "print('hello')"
      ],
      "metadata": {
        "colab": {
          "base_uri": "https://localhost:8080/"
        },
        "id": "logbO1JFnmOt",
        "outputId": "f04c81f2-e7a0-4a80-9c94-a004a0702326"
      },
      "execution_count": null,
      "outputs": [
        {
          "output_type": "stream",
          "name": "stdout",
          "text": [
            "he\n",
            "llo\n",
            "hello\n",
            "hellohello\n"
          ]
        }
      ]
    },
    {
      "cell_type": "code",
      "source": [
        "num = int(input(\"양의 정수를 입력하세요.: \"))\n",
        "sum = 0\n",
        "if num <= 0:\n",
        "  print(\"잘못 입력하셨습니다.\")\n",
        "else:\n",
        "  for i in range(1, num+1):\n",
        "    sum += i*3\n",
        "    sum += i*5\n",
        "print(sum)"
      ],
      "metadata": {
        "colab": {
          "base_uri": "https://localhost:8080/"
        },
        "id": "Y1lUg9fHovho",
        "outputId": "ed921b2d-7f1e-4384-e6ad-f20fa076714d"
      },
      "execution_count": null,
      "outputs": [
        {
          "output_type": "stream",
          "name": "stdout",
          "text": [
            "양의 정수를 입력하세요.: 1\n",
            "8\n"
          ]
        }
      ]
    },
    {
      "cell_type": "code",
      "source": [
        "n = int(input(\"[3의 배수와 5의 배수 합 구하기]\\n\\n 양의 정수 n을 입력하세요.: \"))\n",
        "\n",
        "sum = 0\n",
        "for i in range(1, n+1):\n",
        "  if i%3==0 or i%5==0:\n",
        "    sum += i\n",
        "print(f\"\\n[결과]\\n1부터 {n}까지의 3의 배수와 5의 배수의 총합은 {sum}입니다.\")"
      ],
      "metadata": {
        "colab": {
          "base_uri": "https://localhost:8080/"
        },
        "id": "6EwvVAc_p8Cd",
        "outputId": "229ba7d1-6baa-4b5c-f8ae-111376919be0"
      },
      "execution_count": null,
      "outputs": [
        {
          "output_type": "stream",
          "name": "stdout",
          "text": [
            "[3의 배수와 5의 배수 합 구하기]\n",
            "\n",
            " 양의 정수 n을 입력하세요.: 1\n",
            "\n",
            "[결과]\n",
            "1부터 1까지의 3의 배수와 5의 배수의 총합은 0입니다.\n"
          ]
        }
      ]
    },
    {
      "cell_type": "code",
      "source": [
        "max_v = 0\n",
        "min_v = 100\n",
        "switch = 0\n",
        "while True:\n",
        "  num = int(input(\"[1~100]\\n5개의 정수를 입력하세요.: \"))\n",
        "  if num > 100:\n",
        "    print(\"잘못된 입력 값입니다.\")\n",
        "    break\n",
        "  else:\n",
        "    if num <= 0:\n",
        "      print(\"중단.\")\n",
        "      break\n",
        "    else:\n",
        "      if num == 0:\n",
        "        break\n",
        "      else:\n",
        "        switch = 1\n",
        "        if num > max_v:\n",
        "          max_v = num\n",
        "        if num < min_v:\n",
        "          min_v = num\n",
        "if switch == 1:\n",
        "  print(\"가장 큰 값: \", max_v)\n",
        "  print(\"가장 작은 값: \", min_v)"
      ],
      "metadata": {
        "colab": {
          "base_uri": "https://localhost:8080/"
        },
        "id": "0T1eSQqQquB7",
        "outputId": "5c4ab227-018f-4534-d17b-f0aa943a2e82"
      },
      "execution_count": null,
      "outputs": [
        {
          "output_type": "stream",
          "name": "stdout",
          "text": [
            "[1~100]\n",
            "5개의 정수를 입력하세요.: 100\n",
            "[1~100]\n",
            "5개의 정수를 입력하세요.: 97\n",
            "[1~100]\n",
            "5개의 정수를 입력하세요.: 95\n",
            "[1~100]\n",
            "5개의 정수를 입력하세요.: 93\n",
            "[1~100]\n",
            "5개의 정수를 입력하세요.: 91\n",
            "[1~100]\n",
            "5개의 정수를 입력하세요.: -1\n",
            "중단.\n",
            "가장 큰 값:  100\n",
            "가장 작은 값:  91\n"
          ]
        }
      ]
    },
    {
      "cell_type": "code",
      "source": [
        "max_value = 0\n",
        "min_value = 100\n",
        "while True:\n",
        "  num = int (input(\"1~100의 정수를 입력하세요.(종료:0): \"))\n",
        "  if num == 0:\n",
        "    break\n",
        "  if num > max_value:\n",
        "    max_value = num\n",
        "  if num < min_value:\n",
        "    min_value = num\n",
        "\n",
        "print(\"가장 큰 값 :\", max_value)\n",
        "print(\"가장 작은 값 :\", min_value)"
      ],
      "metadata": {
        "id": "hOuhxnTork9O",
        "colab": {
          "base_uri": "https://localhost:8080/"
        },
        "outputId": "b32a1d0f-0a89-4dea-e3a1-68f727f9a759"
      },
      "execution_count": null,
      "outputs": [
        {
          "output_type": "stream",
          "name": "stdout",
          "text": [
            "1~100의 정수를 입력하세요.(종료:0): 100\n",
            "1~100의 정수를 입력하세요.(종료:0): 98\n",
            "1~100의 정수를 입력하세요.(종료:0): 96\n",
            "1~100의 정수를 입력하세요.(종료:0): 94\n",
            "1~100의 정수를 입력하세요.(종료:0): 0\n",
            "가장 큰 값 : 100\n",
            "가장 작은 값 : 94\n"
          ]
        }
      ]
    },
    {
      "cell_type": "code",
      "source": [
        "sum = 0\n",
        "while sum < 100:\n",
        "  num = int(input(\"[숫자의 합이 100보다 작을 때까지 입력받기]\\n\\n숫자를 입력하세요: \"))\n",
        "  sum += num\n",
        "#print(\"\\n[결과]\\n입력받은 숫자들의 합:\", sum)\n",
        "print(f'\\n[결과]\\n입력받은 숫자들의 합: {sum-num}')"
      ],
      "metadata": {
        "colab": {
          "base_uri": "https://localhost:8080/"
        },
        "id": "zmov8Su1u7k9",
        "outputId": "a38b5f34-84bc-424f-d962-88dd5272ae49"
      },
      "execution_count": null,
      "outputs": [
        {
          "output_type": "stream",
          "name": "stdout",
          "text": [
            "[숫자의 합이 100보다 작을 때까지 입력받기]\n",
            "\n",
            "숫자를 입력하세요: 7\n",
            "[숫자의 합이 100보다 작을 때까지 입력받기]\n",
            "\n",
            "숫자를 입력하세요: 4\n",
            "[숫자의 합이 100보다 작을 때까지 입력받기]\n",
            "\n",
            "숫자를 입력하세요: 6\n",
            "[숫자의 합이 100보다 작을 때까지 입력받기]\n",
            "\n",
            "숫자를 입력하세요: 39\n",
            "[숫자의 합이 100보다 작을 때까지 입력받기]\n",
            "\n",
            "숫자를 입력하세요: 39\n",
            "[숫자의 합이 100보다 작을 때까지 입력받기]\n",
            "\n",
            "숫자를 입력하세요: 35\n",
            "\n",
            "[결과]\n",
            "입력받은 숫자들의 합: 95\n"
          ]
        }
      ]
    },
    {
      "cell_type": "markdown",
      "source": [
        "피보나치 수열 입력항의 숫자를 찾는 코드"
      ],
      "metadata": {
        "id": "fb4kJUPP3yjk"
      }
    },
    {
      "cell_type": "code",
      "source": [
        "num = int(input(\"몇 번째 항을 출력할까요? (1 이상의 양의 정수): \"))\n",
        "\n",
        "if num==1 or num==2:\n",
        "  result = 1\n",
        "else:\n",
        "  val_1 = 1\n",
        "  val_2 = 1\n",
        "  i = 3\n",
        "  while i <= num:\n",
        "    result = val_1 + val_2\n",
        "    val_1 = val_2\n",
        "    val_2 = result\n",
        "    i += 1\n",
        "\n",
        "print(f\"피보나치 수열의 {num}번째 항은 {result}입니다.\")"
      ],
      "metadata": {
        "colab": {
          "base_uri": "https://localhost:8080/"
        },
        "id": "EOdL3t8bx2cp",
        "outputId": "af3aa953-0ace-4de3-af3a-bd4efc755db3"
      },
      "execution_count": null,
      "outputs": [
        {
          "output_type": "stream",
          "name": "stdout",
          "text": [
            "몇 번째 항을 출력할까요? (1 이상의 양의 정수): 7\n",
            "피보나치 수열의 7번째 항은 13입니다.\n"
          ]
        }
      ]
    },
    {
      "cell_type": "code",
      "source": [
        "for i in range(1, 11):\n",
        "    if i % 3 == 0:\n",
        "      print(i)\n",
        "    else:\n",
        "      continue\n",
        "      print(\"이 부분은 실행되지 않습니다.\")  # continue문으로 이동했기 때문에 실행되지 않음\n",
        "print(\"반복문이 종료되었습니다.\")\n"
      ],
      "metadata": {
        "colab": {
          "base_uri": "https://localhost:8080/"
        },
        "id": "bR-Ktqj83dM9",
        "outputId": "b182faf0-ad47-475c-ba42-23b18006f7a2"
      },
      "execution_count": null,
      "outputs": [
        {
          "output_type": "stream",
          "name": "stdout",
          "text": [
            "3\n",
            "6\n",
            "9\n",
            "반복문이 종료되었습니다.\n"
          ]
        }
      ]
    },
    {
      "cell_type": "markdown",
      "source": [
        "모음 지우기 예제"
      ],
      "metadata": {
        "id": "KDQsFJTNnIkZ"
      }
    },
    {
      "cell_type": "code",
      "source": [
        "vowels = ['a', 'e', 'i', 'o', 'u']\n",
        "input_str = input(\"Enter a string: \")\n",
        "\n",
        "output_str = \"\"\n",
        "for char in input_str:\n",
        "    if char in vowels:\n",
        "      pass\n",
        "    else:\n",
        "      output_str += char\n",
        "\n",
        "print(\"Modified string:\", output_str)\n"
      ],
      "metadata": {
        "colab": {
          "base_uri": "https://localhost:8080/"
        },
        "id": "mGXbCjrY370v",
        "outputId": "ee5da19b-036f-4f4e-c2df-270f80bb3e70"
      },
      "execution_count": null,
      "outputs": [
        {
          "output_type": "stream",
          "name": "stdout",
          "text": [
            "Enter a string: arise\n",
            "Modified string: rs\n"
          ]
        }
      ]
    },
    {
      "cell_type": "markdown",
      "source": [
        "주사위 예제"
      ],
      "metadata": {
        "id": "MBD_gSoO9F9w"
      }
    },
    {
      "cell_type": "code",
      "source": [
        "import random\n",
        "\n",
        "#a = [1, 2, 3, 4, 5, 6]\n",
        "#b = [1, 2, 3, 4, 5, 6]\n",
        "c = 0\n",
        "\n",
        "while True:\n",
        "  a = random.randint(1, 6)\n",
        "  b = random.randint(1, 6)\n",
        "  c = a + b\n",
        "  print(f\"({a}, {b}) 합={c}\")\n",
        "\n",
        "  if c == 7:\n",
        "    print(\"win\")\n",
        "    break\n",
        "  else:\n",
        "    print(\"try again\")"
      ],
      "metadata": {
        "colab": {
          "base_uri": "https://localhost:8080/"
        },
        "id": "Rwu7UtWf6V9D",
        "outputId": "6cc088cf-122e-49ef-89cb-dce424d2a8aa"
      },
      "execution_count": null,
      "outputs": [
        {
          "output_type": "stream",
          "name": "stdout",
          "text": [
            "(6, 2) 합=8\n",
            "try again\n",
            "(3, 5) 합=8\n",
            "try again\n",
            "(6, 1) 합=7\n",
            "win\n"
          ]
        }
      ]
    },
    {
      "cell_type": "code",
      "source": [
        "import random\n",
        "a = 10\n",
        "\n",
        "while True:\n",
        "  if a > 0:\n",
        "    if a < 100:\n",
        "      coin = random.randint(1,2)\n",
        "      guess = int(input(\"앞/뒤(1/2)?\"))\n",
        "\n",
        "  if a <= 0:\n",
        "    print(\"탕진\")\n",
        "    break\n",
        "  else:\n",
        "    if a >= 100:\n",
        "      print(\"승리\")\n",
        "      break\n",
        "    else:\n",
        "      if coin == guess:\n",
        "        a += 9\n",
        "        print(f\"[맞추셨습니다.]\\n잔액은 {a}$입니다.\")\n",
        "      else:\n",
        "        a -= 10\n",
        "        print(f\"[틀리셨습니다.]\\n잔액은 {a}$입니다.\")\n",
        "\n",
        "print(\"게임을 종료합니다.\")"
      ],
      "metadata": {
        "colab": {
          "base_uri": "https://localhost:8080/"
        },
        "id": "589jJ5ZB9XeB",
        "outputId": "cc4f5bb7-ac82-494d-8af1-fc5cff11fb95"
      },
      "execution_count": null,
      "outputs": [
        {
          "output_type": "stream",
          "name": "stdout",
          "text": [
            "앞/뒤(1/2)?2\n",
            "[틀리셨습니다.]\n",
            "잔액은 0$입니다.\n",
            "탕진\n",
            "게임을 종료합니다.\n"
          ]
        }
      ]
    },
    {
      "cell_type": "code",
      "source": [
        "string = \"hello world\"\n",
        "substring = string[6:]\n",
        "print(substring)  # \"world\"\n"
      ],
      "metadata": {
        "colab": {
          "base_uri": "https://localhost:8080/"
        },
        "id": "E4z3_nXuDBjX",
        "outputId": "86c11ace-6928-44ae-9b81-217e3a6182d3"
      },
      "execution_count": null,
      "outputs": [
        {
          "output_type": "stream",
          "name": "stdout",
          "text": [
            "world\n"
          ]
        }
      ]
    },
    {
      "cell_type": "code",
      "source": [
        "string = \"hello world\"\n",
        "substring = string[:5]\n",
        "print(substring)  # \"hello\"\n"
      ],
      "metadata": {
        "colab": {
          "base_uri": "https://localhost:8080/"
        },
        "id": "6zlkqdJSDaY3",
        "outputId": "0ea362ae-732c-4a18-94db-44f0954896ab"
      },
      "execution_count": null,
      "outputs": [
        {
          "output_type": "stream",
          "name": "stdout",
          "text": [
            "hello\n"
          ]
        }
      ]
    },
    {
      "cell_type": "code",
      "source": [
        "string = \"hello world\"\n",
        "substring = string[::2]\n",
        "print(substring)  # \"hlowrd\"\n"
      ],
      "metadata": {
        "colab": {
          "base_uri": "https://localhost:8080/"
        },
        "id": "Vx7wJxEMDaGQ",
        "outputId": "538a54f2-e0ba-4997-f9b0-3e9afd55533a"
      },
      "execution_count": null,
      "outputs": [
        {
          "output_type": "stream",
          "name": "stdout",
          "text": [
            "hlowrd\n"
          ]
        }
      ]
    },
    {
      "cell_type": "code",
      "source": [
        "s = \"Hello, world!\"\n",
        "reversed_s = s[::-1]\n",
        "print(reversed_s)  # \"!dlrow ,olleH\"\n"
      ],
      "metadata": {
        "colab": {
          "base_uri": "https://localhost:8080/"
        },
        "id": "VyDFhtLQER6n",
        "outputId": "b2eba231-8eb8-4e11-cab8-311d4ecd7dee"
      },
      "execution_count": null,
      "outputs": [
        {
          "output_type": "stream",
          "name": "stdout",
          "text": [
            "!dlrow ,olleH\n"
          ]
        }
      ]
    },
    {
      "cell_type": "code",
      "source": [
        "print(\"hello, world!\".upper())\n",
        "print(\"HeLLo, wOrLd!\".lower())\n",
        "print(\"hello, world!\".capitalize())\n",
        "print(\"hello, world!\".title())\n",
        "print(\"Hello, World!\".swapcase())"
      ],
      "metadata": {
        "colab": {
          "base_uri": "https://localhost:8080/"
        },
        "id": "AJfeWX-xGvpG",
        "outputId": "c3f3495a-a3f2-4ba8-ec42-bd0231a39d0a"
      },
      "execution_count": null,
      "outputs": [
        {
          "output_type": "stream",
          "name": "stdout",
          "text": [
            "HELLO, WORLD!\n",
            "hello, world!\n",
            "Hello, world!\n",
            "Hello, World!\n",
            "hELLO, wORLD!\n"
          ]
        }
      ]
    },
    {
      "cell_type": "code",
      "source": [
        "s = \"Holla World\"\n",
        "\n",
        "print(len(s))\n",
        "print(s*10)\n",
        "print(s[0])\n",
        "print(s[:3])\n",
        "print(s[-3:])\n",
        "print(s[::-1])\n",
        "\n",
        "if s[6].isspace():\n",
        "  print('문자가 없습니다.')\n",
        "else:\n",
        "  print(s[6])\n",
        "\n",
        "i = 0\n",
        "while i < len(s):\n",
        "  if i == 0:\n",
        "    pass\n",
        "  elif i == len(s)-1:\n",
        "    pass\n",
        "  else:\n",
        "    print(s[i], end=\"\")\n",
        "  i += 1\n",
        "print()\n",
        "print(s.upper())\n",
        "print(s.lower())\n",
        "print(s.replace(\"a\", \"e\"))"
      ],
      "metadata": {
        "colab": {
          "base_uri": "https://localhost:8080/"
        },
        "id": "JCDwNu-VNj_j",
        "outputId": "fbe2992e-c9d4-4c60-a7ab-337e5f2442c5"
      },
      "execution_count": null,
      "outputs": [
        {
          "output_type": "stream",
          "name": "stdout",
          "text": [
            "11\n",
            "Holla WorldHolla WorldHolla WorldHolla WorldHolla WorldHolla WorldHolla WorldHolla WorldHolla WorldHolla World\n",
            "H\n",
            "Hol\n",
            "rld\n",
            "dlroW alloH\n",
            "W\n",
            "olla Worl\n",
            "HOLLA WORLD\n",
            "holla world\n",
            "Holle World\n"
          ]
        }
      ]
    },
    {
      "cell_type": "code",
      "source": [
        "text = input(\"text: \")\n",
        "print(text.replace('a', 'a\\n'))"
      ],
      "metadata": {
        "colab": {
          "base_uri": "https://localhost:8080/"
        },
        "id": "VV3jYRySt-jr",
        "outputId": "0cacbb7e-5891-4783-9308-ba10e650c779"
      },
      "execution_count": null,
      "outputs": [
        {
          "output_type": "stream",
          "name": "stdout",
          "text": [
            "text: Buffalo\n",
            "Buffa\n",
            "lo\n"
          ]
        }
      ]
    },
    {
      "cell_type": "code",
      "source": [
        "total = 0\n",
        "\n",
        "for num in range(1,1001):\n",
        "  sum = 0\n",
        "  for digit in str(num):\n",
        "    sum += int(digit)\n",
        "  total += sum\n",
        "\n",
        "print(total)"
      ],
      "metadata": {
        "colab": {
          "base_uri": "https://localhost:8080/"
        },
        "id": "-7tuMpUTu-u2",
        "outputId": "08e1d99c-802a-4bec-9202-9254318eeacb"
      },
      "execution_count": null,
      "outputs": [
        {
          "output_type": "stream",
          "name": "stdout",
          "text": [
            "13501\n"
          ]
        }
      ]
    },
    {
      "cell_type": "code",
      "source": [
        "words = [\"apple\", \"banana\", \"orange\", \"grape\", \"watermelon\"]\n",
        "result = [word.upper() for word in words if len(word) >= 5]\n",
        "print(result)  # ['APPLE', 'BANANA', 'ORANGE', 'GRAPE', 'WATERMELON']\n"
      ],
      "metadata": {
        "colab": {
          "base_uri": "https://localhost:8080/"
        },
        "id": "AfNPbWRhu-pT",
        "outputId": "8c34a1d4-dea6-45e4-ff28-6a88a586e0d9"
      },
      "execution_count": null,
      "outputs": [
        {
          "output_type": "stream",
          "name": "stdout",
          "text": [
            "['APPLE', 'BANANA', 'ORANGE', 'GRAPE', 'WATERMELON']\n"
          ]
        }
      ]
    },
    {
      "cell_type": "code",
      "source": [
        "original_list = [[1, 2], [3, 4], [5, 6]]\n",
        "new_list = [num for sublist in original_list for num in sublist]\n",
        "print(new_list)  # [1, 2, 3, 4, 5, 6]\n"
      ],
      "metadata": {
        "colab": {
          "base_uri": "https://localhost:8080/"
        },
        "id": "rIKsGeLaxrZ8",
        "outputId": "57911a4a-9fba-4887-ccdc-524d227c6de2"
      },
      "execution_count": null,
      "outputs": [
        {
          "output_type": "stream",
          "name": "stdout",
          "text": [
            "[1, 2, 3, 4, 5, 6]\n"
          ]
        }
      ]
    },
    {
      "cell_type": "code",
      "source": [
        "matrix = [[1, 2, 3], [4, 5, 6], [7, 8, 9]]\n",
        "result = [num for row in matrix for num in row if num % 2 == 0]\n",
        "print(result)  # [2, 4, 6, 8]\n"
      ],
      "metadata": {
        "colab": {
          "base_uri": "https://localhost:8080/"
        },
        "id": "WEUG2Zsbx_sG",
        "outputId": "1849e3c6-a9af-4ad3-f1ff-ae0db7c82a43"
      },
      "execution_count": null,
      "outputs": [
        {
          "output_type": "stream",
          "name": "stdout",
          "text": [
            "[2, 4, 6, 8]\n"
          ]
        }
      ]
    },
    {
      "cell_type": "code",
      "source": [
        "nums = [1, 2, 3, 4, 5]\n",
        "reversed_nums = reversed(nums)\n",
        "#print(reversed_nums)  # [5, 4, 3, 2, 1]\n",
        "\n",
        "#type(reversed_nums)\n",
        "#print(reversed_nums)\n",
        "#print(list(reversed_nums))\n",
        "\n",
        "for x in reversed_nums:\n",
        "  print(x, end=\"\")\n",
        "\n",
        "for x in reversed_nums: #이터레이터는 한 번 사용하면 내용이 빠져나가서 그 후로는 값이 없어 출력안됨\n",
        "  print(x, end=\"\")\n",
        "\n",
        "print(list(reversed_nums))"
      ],
      "metadata": {
        "colab": {
          "base_uri": "https://localhost:8080/"
        },
        "id": "sZOniT0A0nDF",
        "outputId": "5d4e8e29-1ac2-46f1-9acc-a9d6972d1fb3"
      },
      "execution_count": null,
      "outputs": [
        {
          "output_type": "stream",
          "name": "stdout",
          "text": [
            "54321[]\n"
          ]
        }
      ]
    },
    {
      "cell_type": "code",
      "source": [
        "def calculate(x, y):\n",
        "    add = x + y\n",
        "    subtract = x - y\n",
        "    multiply = x * y\n",
        "    divide = x / y\n",
        "    return add, subtract, multiply, divide\n",
        "\n",
        "a, b, c, d = calculate(10, 2)\n",
        "print(f'{a} {b} {c} {d:.2f}')"
      ],
      "metadata": {
        "colab": {
          "base_uri": "https://localhost:8080/"
        },
        "id": "vPuqqQFc6vzm",
        "outputId": "bd9cf03e-a506-4143-f241-70539b269806"
      },
      "execution_count": null,
      "outputs": [
        {
          "output_type": "stream",
          "name": "stdout",
          "text": [
            "12 8 20 5.00\n"
          ]
        }
      ]
    },
    {
      "cell_type": "code",
      "source": [
        "my_dict = {'a': 1, 'b': 2}\n",
        "my_dict['c'] = 3\n",
        "print(my_dict)  # {'a': 1, 'b': 2, 'c': 3}\n",
        "\n",
        "my_dict = {'a': 1, 'b': 2}\n",
        "my_dict.update({'c': 3, 'd': 4})\n",
        "print(my_dict)  # {'a': 1, 'b': 2, 'c': 3, 'd': 4}\n"
      ],
      "metadata": {
        "colab": {
          "base_uri": "https://localhost:8080/"
        },
        "id": "_Hg7ouUA9XX1",
        "outputId": "d3a08d2c-9a46-4bee-8ca9-6cf56638d415"
      },
      "execution_count": null,
      "outputs": [
        {
          "output_type": "stream",
          "name": "stdout",
          "text": [
            "{'a': 1, 'b': 2, 'c': 3}\n",
            "{'a': 1, 'b': 2, 'c': 3, 'd': 4}\n"
          ]
        }
      ]
    },
    {
      "cell_type": "code",
      "source": [
        "# 딕셔너리 생성\n",
        "fruits = {'apple': 3, 'banana': 2, 'orange': 1}\n",
        "\n",
        "# keys 함수를 사용하여 딕셔너리의 키를 리스트로 변환\n",
        "keys_list = list(fruits.keys())\n",
        "print(keys_list)  # ['apple', 'banana', 'orange']\n",
        "\n",
        "# values 함수를 사용하여 딕셔너리의 값을 리스트로 변환\n",
        "values_list = list(fruits.values())\n",
        "print(values_list)  # [3, 2, 1]\n",
        "\n",
        "# items 함수를 사용하여 딕셔너리의 (키, 값) 쌍을 리스트로 변환\n",
        "items_list = fruits.items()\n",
        "print(items_list)  # [('apple', 3), ('banana', 2), ('orange', 1)]\n",
        "\n",
        "for k, v in fruits.items():\n",
        "  print(k, end=\"\\t\")\n",
        "  print(v)"
      ],
      "metadata": {
        "colab": {
          "base_uri": "https://localhost:8080/"
        },
        "id": "6UECHS4F-jTJ",
        "outputId": "1b46c71f-64a0-41da-b528-37abcdfb25be"
      },
      "execution_count": null,
      "outputs": [
        {
          "output_type": "stream",
          "name": "stdout",
          "text": [
            "['apple', 'banana', 'orange']\n",
            "[3, 2, 1]\n",
            "dict_items([('apple', 3), ('banana', 2), ('orange', 1)])\n",
            "apple\t3\n",
            "banana\t2\n",
            "orange\t1\n"
          ]
        }
      ]
    },
    {
      "cell_type": "code",
      "source": [
        "# 딕셔너리 생성\n",
        "fruits = {'apple': 3, 'banana': 2, 'orange': 1}\n",
        "\n",
        "# get 함수를 사용하여 딕셔너리에서 특정 키에 해당하는 값을 가져옴\n",
        "print(fruits.get('apple'))  # 3\n",
        "print(fruits.get('grape', 'Hi'))  # None\n"
      ],
      "metadata": {
        "colab": {
          "base_uri": "https://localhost:8080/"
        },
        "id": "VIYx7aj_Ab54",
        "outputId": "d1c54e83-3b58-45a7-b74e-ccc097eec997"
      },
      "execution_count": null,
      "outputs": [
        {
          "output_type": "stream",
          "name": "stdout",
          "text": [
            "3\n",
            "Hi\n"
          ]
        }
      ]
    },
    {
      "cell_type": "code",
      "source": [
        "days = {'January':31, 'February':28, 'March':31, 'April':30, 'May':31, 'June':30, 'July':31, 'August':31, 'September':30, 'October':31, 'November':30, 'December':31}\n",
        "\n",
        "m = input(\"월을 입력하세요.: \")\n",
        "if m in days:\n",
        "  print(days.get(m))\n",
        "else:\n",
        "  print(\"잘못된 입력 값입니다.\")\n",
        "\n",
        "print(sorted(list(days.keys())))\n",
        "\n",
        "for m, d in days.items():\n",
        "  if d == 31:\n",
        "    print(f'{m}', end=\"\\t\")\n",
        "print()\n",
        "\n",
        "# 월의 일수를 기준으로 오름차순으로 (key-value) 쌍을 출력하라\n",
        "\n",
        "dm = [(d, m) for (m, d) in days.items()]\n",
        "for d, m in sorted(dm):\n",
        "  print(f'{m}:{d}', end=\"\\t\")\n",
        "print()\n",
        "\n",
        "mon = input('month(3 char): ')\n",
        "\n",
        "for m in days.keys():\n",
        "  if m[:3] == mon:\n",
        "    print(days[m])\n"
      ],
      "metadata": {
        "colab": {
          "base_uri": "https://localhost:8080/"
        },
        "id": "aRfrUufHA1W2",
        "outputId": "ee3dc9d6-ef3f-4611-974e-713fc8a74c38"
      },
      "execution_count": null,
      "outputs": [
        {
          "output_type": "stream",
          "name": "stdout",
          "text": [
            "월을 입력하세요.: August\n",
            "31\n",
            "['April', 'August', 'December', 'February', 'January', 'July', 'June', 'March', 'May', 'November', 'October', 'September']\n",
            "January\tMarch\tMay\tJuly\tAugust\tOctober\tDecember\t\n",
            "February:28\tApril:30\tJune:30\tNovember:30\tSeptember:30\tAugust:31\tDecember:31\tJanuary:31\tJuly:31\tMarch:31\tMay:31\tOctober:31\t\n",
            "month(3 char): Aug\n",
            "31\n"
          ]
        }
      ]
    },
    {
      "cell_type": "code",
      "source": [
        "dm = [(d, m) for (m, d) in days.items()]\n",
        "sdm = sorted(dm)\n",
        "smd = [(m, d) for (d, m) in sdm]\n",
        "print(smd)"
      ],
      "metadata": {
        "colab": {
          "base_uri": "https://localhost:8080/"
        },
        "id": "IIZQ5AuhGcLb",
        "outputId": "63c5deb8-5b75-4a5d-8ff0-45e1d09a13c4"
      },
      "execution_count": null,
      "outputs": [
        {
          "output_type": "stream",
          "name": "stdout",
          "text": [
            "[('February', 28), ('April', 30), ('June', 30), ('November', 30), ('September', 30), ('August', 31), ('December', 31), ('January', 31), ('July', 31), ('March', 31), ('May', 31), ('October', 31)]\n"
          ]
        }
      ]
    },
    {
      "cell_type": "code",
      "source": [
        "d=[{'name':'Todd', 'phone':'555-1414', 'email':'todd@mail.net'}, {'name':'Helga', 'phone':'555-1618', 'email':'helga@mail.net'},{'name':'Princess', 'phone':'555-3141', 'email':''},{'name':'LJ', 'phone':'555-2718', 'email':'lj@mail.net'}]\n",
        "\n",
        "for p in d:\n",
        "  if p['phone'][7] == '8':\n",
        "    print(p['name'], end =\"\\t\")\n",
        "print('\\n' + '-' * 20)\n",
        "\n",
        "for e in d:\n",
        "  if e['email'] == '':\n",
        "    print(e['name'],  end=\"\\t\")\n",
        "print('\\n' + '-' * 20)\n",
        "\n",
        "n = input(\"이름: \")\n",
        "flag = 1\n",
        "\n",
        "for nm in d:\n",
        "  if nm['name'] == n:\n",
        "    print(f\"{nm['phone']}\\t{nm['email']}\")\n",
        "    flag = 0\n",
        "\n",
        "if flag == 1:\n",
        "  print(\"이름이 없습니다.\")"
      ],
      "metadata": {
        "colab": {
          "base_uri": "https://localhost:8080/"
        },
        "id": "mKfMdLmpI7XJ",
        "outputId": "b9b8af7f-acaf-46d3-d535-f5c1eb049e93"
      },
      "execution_count": null,
      "outputs": [
        {
          "output_type": "stream",
          "name": "stdout",
          "text": [
            "Helga\tLJ\t\n",
            "--------------------\n",
            "Princess\t\n",
            "--------------------\n",
            "이름: LJ\n",
            "555-2718\tlj@mail.net\n"
          ]
        }
      ]
    },
    {
      "cell_type": "code",
      "source": [
        "import random\n",
        "\n",
        "rotto = set()\n",
        "while len(rotto) < 6:\n",
        "  rotto.add(random.randint(1, 46))\n",
        "\n",
        "print(rotto)"
      ],
      "metadata": {
        "colab": {
          "base_uri": "https://localhost:8080/"
        },
        "id": "IdQjupyAOZt5",
        "outputId": "083c86ee-c95b-4d5f-b90b-43feff30aa0b"
      },
      "execution_count": null,
      "outputs": [
        {
          "output_type": "stream",
          "name": "stdout",
          "text": [
            "{46, 20, 21, 26, 28, 30}\n"
          ]
        }
      ]
    },
    {
      "cell_type": "code",
      "source": [
        "score = {\n",
        "    \"Alice\": [85, 90, 95],\n",
        "    \"Bob\": [75, 80, 85],\n",
        "    \"Charlie\": [95, 95, 95]\n",
        "}\n",
        "\n",
        "for n, s in score.items():\n",
        "  print(f'{n}:{sum(s)/len(s):.0f}')\n"
      ],
      "metadata": {
        "colab": {
          "base_uri": "https://localhost:8080/"
        },
        "id": "VJeSlpdCP6xj",
        "outputId": "f99b062a-18d5-4d59-82aa-514f27be94ee"
      },
      "execution_count": null,
      "outputs": [
        {
          "output_type": "stream",
          "name": "stdout",
          "text": [
            "Alice:90\n",
            "Bob:80\n",
            "Charlie:95\n"
          ]
        }
      ]
    },
    {
      "cell_type": "code",
      "source": [
        "text = \"Hello, world!\"\n",
        "\n",
        "freq = {}\n",
        "\n",
        "for c in text:\n",
        "  if c not in freq:\n",
        "    freq[c] = 1\n",
        "  else:\n",
        "    freq[c] += 1\n",
        "\n",
        "print(freq)"
      ],
      "metadata": {
        "colab": {
          "base_uri": "https://localhost:8080/"
        },
        "id": "C7PgjX_FUztc",
        "outputId": "abffa164-53c8-49df-b69e-506e91d430c4"
      },
      "execution_count": null,
      "outputs": [
        {
          "output_type": "stream",
          "name": "stdout",
          "text": [
            "{'H': 1, 'e': 1, 'l': 3, 'o': 2, ',': 1, ' ': 1, 'w': 1, 'r': 1, 'd': 1, '!': 1}\n"
          ]
        }
      ]
    },
    {
      "cell_type": "code",
      "source": [
        "x = print(\"hello\", end='ddd\\n')\n",
        "print(x) # 리턴을 안해줘도 None 값이 넘어옴"
      ],
      "metadata": {
        "colab": {
          "base_uri": "https://localhost:8080/"
        },
        "id": "S2Nho1fqX40x",
        "outputId": "94b98cde-8647-46b4-ad8b-1361d6dfdd57"
      },
      "execution_count": null,
      "outputs": [
        {
          "output_type": "stream",
          "name": "stdout",
          "text": [
            "helloddd\n",
            "None\n"
          ]
        }
      ]
    },
    {
      "cell_type": "code",
      "source": [
        "def get_operator(operator):\n",
        "    if operator == '+':\n",
        "        return lambda a, b: a + b\n",
        "    elif operator == '-':\n",
        "        return lambda a, b: a - b\n",
        "    elif operator == '*':\n",
        "        return lambda a, b: a * b\n",
        "    elif operator == '/':\n",
        "        return lambda a, b: a / b\n",
        "\n",
        "add_f = get_operator('+')\n",
        "sub_f = get_operator('-')\n",
        "mul_f = get_operator('*')\n",
        "div_f = get_operator('/')\n"
      ],
      "metadata": {
        "id": "lkAzJW6qdeaN"
      },
      "execution_count": null,
      "outputs": []
    },
    {
      "cell_type": "code",
      "source": [
        "def add_f(n):\n",
        "  if n == 1:\n",
        "    return 1\n",
        "  elif n <= 0:\n",
        "    return print(\"잘못된 입력 값입니다.\")\n",
        "  else:\n",
        "    i = 1\n",
        "    a = 0\n",
        "    while i <= n:\n",
        "      a += i\n",
        "  return a\n",
        "\n",
        "print(add_f(10))\n",
        "# 미완성"
      ],
      "metadata": {
        "colab": {
          "base_uri": "https://localhost:8080/",
          "height": 349
        },
        "id": "9uRyuXgPd4IW",
        "outputId": "1c279336-240f-496d-9252-2c7456ef733f"
      },
      "execution_count": null,
      "outputs": [
        {
          "output_type": "error",
          "ename": "KeyboardInterrupt",
          "evalue": "ignored",
          "traceback": [
            "\u001b[0;31m---------------------------------------------------------------------------\u001b[0m",
            "\u001b[0;31mKeyboardInterrupt\u001b[0m                         Traceback (most recent call last)",
            "\u001b[0;32m<ipython-input-23-a8a00f1de2a5>\u001b[0m in \u001b[0;36m<cell line: 13>\u001b[0;34m()\u001b[0m\n\u001b[1;32m     11\u001b[0m   \u001b[0;32mreturn\u001b[0m \u001b[0ma\u001b[0m\u001b[0;34m\u001b[0m\u001b[0;34m\u001b[0m\u001b[0m\n\u001b[1;32m     12\u001b[0m \u001b[0;34m\u001b[0m\u001b[0m\n\u001b[0;32m---> 13\u001b[0;31m \u001b[0mprint\u001b[0m\u001b[0;34m(\u001b[0m\u001b[0madd_f\u001b[0m\u001b[0;34m(\u001b[0m\u001b[0;36m10\u001b[0m\u001b[0;34m)\u001b[0m\u001b[0;34m)\u001b[0m\u001b[0;34m\u001b[0m\u001b[0;34m\u001b[0m\u001b[0m\n\u001b[0m",
            "\u001b[0;32m<ipython-input-23-a8a00f1de2a5>\u001b[0m in \u001b[0;36madd_f\u001b[0;34m(n)\u001b[0m\n\u001b[1;32m      7\u001b[0m     \u001b[0mi\u001b[0m \u001b[0;34m=\u001b[0m \u001b[0;36m1\u001b[0m\u001b[0;34m\u001b[0m\u001b[0;34m\u001b[0m\u001b[0m\n\u001b[1;32m      8\u001b[0m     \u001b[0ma\u001b[0m \u001b[0;34m=\u001b[0m \u001b[0;36m0\u001b[0m\u001b[0;34m\u001b[0m\u001b[0;34m\u001b[0m\u001b[0m\n\u001b[0;32m----> 9\u001b[0;31m     \u001b[0;32mwhile\u001b[0m \u001b[0mi\u001b[0m \u001b[0;34m<=\u001b[0m \u001b[0mn\u001b[0m\u001b[0;34m:\u001b[0m\u001b[0;34m\u001b[0m\u001b[0;34m\u001b[0m\u001b[0m\n\u001b[0m\u001b[1;32m     10\u001b[0m       \u001b[0ma\u001b[0m \u001b[0;34m+=\u001b[0m \u001b[0mi\u001b[0m\u001b[0;34m\u001b[0m\u001b[0;34m\u001b[0m\u001b[0m\n\u001b[1;32m     11\u001b[0m   \u001b[0;32mreturn\u001b[0m \u001b[0ma\u001b[0m\u001b[0;34m\u001b[0m\u001b[0;34m\u001b[0m\u001b[0m\n",
            "\u001b[0;31mKeyboardInterrupt\u001b[0m: "
          ]
        }
      ]
    },
    {
      "cell_type": "markdown",
      "source": [
        "하나의 숫자를 전달받아 숫자의 자리 합을 구하는 함수를 작성\n",
        "- 예: 123 --> 1+2+3 = 6"
      ],
      "metadata": {
        "id": "9t2z9n_t_Mf1"
      }
    },
    {
      "cell_type": "code",
      "source": [
        "def digit_sum(n):\n",
        "  sum = 0\n",
        "  for digit in str(n):\n",
        "    sum += int(digit)\n",
        "  return sum\n",
        "\n",
        "print(digit_sum(123))"
      ],
      "metadata": {
        "colab": {
          "base_uri": "https://localhost:8080/"
        },
        "id": "At9WSm51-pme",
        "outputId": "acd2a9e2-1058-4bf2-fc45-9bde201a2bca"
      },
      "execution_count": null,
      "outputs": [
        {
          "output_type": "stream",
          "name": "stdout",
          "text": [
            "6\n"
          ]
        }
      ]
    },
    {
      "cell_type": "code",
      "source": [
        "def outer_func(x):\n",
        "    def inner_func(y):\n",
        "        return x + y\n",
        "    return inner_func\n",
        "\n",
        "result = outer_func(10) #result가 inner함수를 리턴받아 inner함수가 됨\n",
        "print(result(20))  # 출력결과: 30"
      ],
      "metadata": {
        "id": "KKtgzaZCA8j6"
      },
      "execution_count": null,
      "outputs": []
    },
    {
      "cell_type": "code",
      "source": [
        "def calculator(a):\n",
        "    def add(b):\n",
        "        return a + b\n",
        "\n",
        "    def subtract(b):\n",
        "        return a - b\n",
        "\n",
        "    def multiply(b):\n",
        "        return a * b\n",
        "\n",
        "    def divide(b):\n",
        "        return a / b\n",
        "\n",
        "    return add, subtract, multiply, divide\n",
        "\n",
        "add, subtract, multiply, divide = calculator(10)\n",
        "\n",
        "print(add(20))  # 출력결과: 30\n",
        "print(subtract(20))  # 출력결과: -10\n",
        "print(multiply(20))  # 출력결과: 200\n",
        "print(divide(20))  # 출력결과: 0.5\n"
      ],
      "metadata": {
        "colab": {
          "base_uri": "https://localhost:8080/"
        },
        "id": "khqo86NNBU2i",
        "outputId": "7ac2a31c-904e-4869-ad43-480361f2b035"
      },
      "execution_count": null,
      "outputs": [
        {
          "output_type": "stream",
          "name": "stdout",
          "text": [
            "30\n",
            "-10\n",
            "200\n",
            "0.5\n"
          ]
        }
      ]
    },
    {
      "cell_type": "code",
      "source": [
        "def print_info(**kwargs):\n",
        "    for key, value in kwargs.items():\n",
        "        print(f\"{key}: {value}\")\n",
        "\n",
        "# 가변 키워드 인자를 사용하여 함수 호출\n",
        "print_info(name='Alice', age=25, country='USA', country2='KOR')\n"
      ],
      "metadata": {
        "colab": {
          "base_uri": "https://localhost:8080/"
        },
        "id": "mdr8AX_PEMNB",
        "outputId": "3798a4de-fbe1-49f7-f259-0e01c667ddb1"
      },
      "execution_count": null,
      "outputs": [
        {
          "output_type": "stream",
          "name": "stdout",
          "text": [
            "name: Alice\n",
            "age: 25\n",
            "country: USA\n",
            "country2: KOR\n"
          ]
        }
      ]
    },
    {
      "cell_type": "code",
      "source": [
        "x = 'global'\n",
        "\n",
        "def outer():\n",
        "    x = 'outer'\n",
        "\n",
        "    def inner():\n",
        "        x = 'inner'\n",
        "        print('x in inner:', x)\n",
        "\n",
        "    inner()\n",
        "    print('x in outer:', x)\n",
        "\n",
        "outer()\n",
        "print('x in global:', x)\n"
      ],
      "metadata": {
        "colab": {
          "base_uri": "https://localhost:8080/"
        },
        "id": "w2spJLJNFVnv",
        "outputId": "42cccb82-187a-4f7a-df56-6dd6ebf34e8e"
      },
      "execution_count": null,
      "outputs": [
        {
          "output_type": "stream",
          "name": "stdout",
          "text": [
            "x in inner: inner\n",
            "x in outer: outer\n",
            "x in global: global\n"
          ]
        }
      ]
    },
    {
      "cell_type": "code",
      "source": [
        "colors = ['red', 'green', 'blue']\n",
        "for index, color in enumerate(colors):\n",
        "    print(index, color)\n",
        "\n",
        "list(enumerate(colors))"
      ],
      "metadata": {
        "colab": {
          "base_uri": "https://localhost:8080/"
        },
        "id": "r1Rt6Iy3G9jv",
        "outputId": "e813f055-1f0e-4d81-b347-252da6743858"
      },
      "execution_count": null,
      "outputs": [
        {
          "output_type": "stream",
          "name": "stdout",
          "text": [
            "0 red\n",
            "1 green\n",
            "2 blue\n"
          ]
        },
        {
          "output_type": "execute_result",
          "data": {
            "text/plain": [
              "[(0, 'red'), (1, 'green'), (2, 'blue')]"
            ]
          },
          "metadata": {},
          "execution_count": 33
        }
      ]
    },
    {
      "cell_type": "code",
      "source": [
        "numbers = [1, 2, 3, 4, 5]\n",
        "squares = list(map(lambda x: x**2, numbers))\n",
        "print(squares)  # 출력결과: [1, 4, 9, 16, 25]\n",
        "\n",
        "dd = map(lambda x: x**2, numbers)\n",
        "for x in dd:\n",
        "  print(x)\n",
        "for x in dd:\n",
        "  print(x)"
      ],
      "metadata": {
        "colab": {
          "base_uri": "https://localhost:8080/"
        },
        "id": "XKv7T6I4IW3e",
        "outputId": "87868dd6-2473-40c2-80b0-986ee76c970f"
      },
      "execution_count": null,
      "outputs": [
        {
          "output_type": "stream",
          "name": "stdout",
          "text": [
            "[1, 4, 9, 16, 25]\n",
            "1\n",
            "4\n",
            "9\n",
            "16\n",
            "25\n"
          ]
        }
      ]
    },
    {
      "cell_type": "markdown",
      "source": [
        "다음과 같이 구성되는 문자열을 구분 문자(&, =)로 분리하여 딕셔너리로 반환하는 함수 작성\n",
        "<br/>예: 문자열 'led=on&motor=off&switch=off'이고 구분 문자가 '&', '='일 때 {'led':'on', 'motor':'off', 'switch':off'} 반환.\n",
        "<br/>Hint: dict([['a','b'], ['c', 'd']]) --> {'a': 'b', 'c': 'd'}\n"
      ],
      "metadata": {
        "id": "p3fAn8jWMfiN"
      }
    },
    {
      "cell_type": "code",
      "source": [
        "text = 'led=on&motor=off&switch=off'\n",
        "\n",
        "text2 = text.split('&')\n",
        "print(text2)\n",
        "\n",
        "temp= []\n",
        "for x in text2:\n",
        "  temp.append(x.split('='))\n",
        "\n",
        "print(temp)\n",
        "dict(temp)"
      ],
      "metadata": {
        "colab": {
          "base_uri": "https://localhost:8080/"
        },
        "id": "wXokeiR6Moag",
        "outputId": "9b0660ed-9c61-4b4b-a31c-a146e15a2d14"
      },
      "execution_count": null,
      "outputs": [
        {
          "output_type": "stream",
          "name": "stdout",
          "text": [
            "['led=on', 'motor=off', 'switch=off']\n",
            "[['led', 'on'], ['motor', 'off'], ['switch', 'off']]\n"
          ]
        },
        {
          "output_type": "execute_result",
          "data": {
            "text/plain": [
              "{'led': 'on', 'motor': 'off', 'switch': 'off'}"
            ]
          },
          "metadata": {},
          "execution_count": 42
        }
      ]
    },
    {
      "cell_type": "markdown",
      "source": [
        "클래스: 핸드폰 설계도\n",
        "\n",
        "인스턴스(객체): 각각의 핸드폰\n",
        "<br/>인스턴스 변수: 각각의 핸드폰의 데이터(전화번호부, 음악)\n",
        "<br/>인스턴스 메소드: 전화걸기, 음악재생\n",
        "<br/>클래스 변수: 모든 핸드폰이 동일하게 사용할 수 있는 변수\n",
        "<br/>클래스 메소드: 모든 핸드폰이 동일하게 사용할 수 있는 기능"
      ],
      "metadata": {
        "id": "3x5Lq6RSPPE6"
      }
    },
    {
      "cell_type": "code",
      "source": [
        "class Rectangle:\n",
        "    def __init__(self, width, height):\n",
        "        self.width = width\n",
        "        self.height = height\n",
        "\n",
        "    def area(self):\n",
        "        return self.width * self.height\n",
        "\n",
        "# 인스턴스 생성 시 생성자 메서드 호출\n",
        "rectangle1 = Rectangle(3, 4)\n",
        "print(rectangle1.width) # 출력 결과: 3\n",
        "print(rectangle1.height) # 출력 결과: 4\n",
        "\n",
        "# 인스턴스 메서드 호출\n",
        "print(rectangle1.area()) # 출력 결과: 12\n"
      ],
      "metadata": {
        "colab": {
          "base_uri": "https://localhost:8080/"
        },
        "id": "1n-pg9eZRQtD",
        "outputId": "8315b9bf-fa47-43f8-b7e2-55e862b66ad9"
      },
      "execution_count": null,
      "outputs": [
        {
          "output_type": "stream",
          "name": "stdout",
          "text": [
            "3\n",
            "4\n",
            "12\n"
          ]
        }
      ]
    },
    {
      "cell_type": "code",
      "source": [
        "class Rectangle:\n",
        "    def __init__(self, width, height):\n",
        "        self.width = width\n",
        "        self.height = height\n",
        "\n",
        "    def area(self):\n",
        "        return self.width * self.height\n",
        "\n",
        "# 인스턴스 생성\n",
        "rectangle1 = Rectangle(3, 4)\n",
        "rectangle2 = Rectangle(5, 6)\n",
        "\n",
        "# 인스턴스 변수에 접근하여 값 출력\n",
        "print(rectangle1.width) # 출력 결과: 3\n",
        "print(rectangle1.height) # 출력 결과: 4\n",
        "print(rectangle2.width) # 출력 결과: 5\n",
        "print(rectangle2.height) # 출력 결과: 6\n",
        "\n",
        "# 인스턴스 메서드 호출\n",
        "print(rectangle1.area()) # 출력 결과: 12\n",
        "print(rectangle2.area()) # 출력 결과: 30\n"
      ],
      "metadata": {
        "colab": {
          "base_uri": "https://localhost:8080/"
        },
        "id": "cHsiCaYTSyTD",
        "outputId": "fb197b7c-0b75-4f3d-8907-fb3528c96a58"
      },
      "execution_count": null,
      "outputs": [
        {
          "output_type": "stream",
          "name": "stdout",
          "text": [
            "3\n",
            "4\n",
            "5\n",
            "6\n",
            "12\n",
            "30\n"
          ]
        }
      ]
    },
    {
      "cell_type": "code",
      "source": [
        "class Deposit:\n",
        "  def __init__(self, initial,interest, n):\n",
        "    self.initial = initial\n",
        "    self.interest = interest\n",
        "    self.n = n\n",
        "\n",
        "  def profit(self):\n",
        "    return int(self.initial*(1+self.interest)**self.n)\n",
        "\n",
        "d = Deposit(1000000, 0.035, 7)\n",
        "d.profit()"
      ],
      "metadata": {
        "colab": {
          "base_uri": "https://localhost:8080/"
        },
        "id": "JhPAsOuvUwMQ",
        "outputId": "2b1677b8-f1b9-496f-9279-869047d8e77a"
      },
      "execution_count": null,
      "outputs": [
        {
          "output_type": "execute_result",
          "data": {
            "text/plain": [
              "1272279"
            ]
          },
          "metadata": {},
          "execution_count": 57
        }
      ]
    },
    {
      "cell_type": "code",
      "source": [
        "class Person:\n",
        "    def __init__(self, name, age):\n",
        "        self.name = name\n",
        "        self.__age = age  # age 인스턴스 변수를 비공개로 설정\n",
        "\n",
        "p = Person(\"Alice\", 25)\n",
        "print(p.name)   # Alice\n",
        "print(p.__age)  # 비공개 인스턴스 변수에 접근 시 에러 발생\n"
      ],
      "metadata": {
        "colab": {
          "base_uri": "https://localhost:8080/",
          "height": 239
        },
        "id": "ag4bmZ99aJoB",
        "outputId": "dbd22470-6a28-4019-ea62-445261a16b77"
      },
      "execution_count": null,
      "outputs": [
        {
          "output_type": "stream",
          "name": "stdout",
          "text": [
            "Alice\n"
          ]
        },
        {
          "output_type": "error",
          "ename": "AttributeError",
          "evalue": "ignored",
          "traceback": [
            "\u001b[0;31m---------------------------------------------------------------------------\u001b[0m",
            "\u001b[0;31mAttributeError\u001b[0m                            Traceback (most recent call last)",
            "\u001b[0;32m<ipython-input-61-f56c039658a6>\u001b[0m in \u001b[0;36m<cell line: 8>\u001b[0;34m()\u001b[0m\n\u001b[1;32m      6\u001b[0m \u001b[0mp\u001b[0m \u001b[0;34m=\u001b[0m \u001b[0mPerson\u001b[0m\u001b[0;34m(\u001b[0m\u001b[0;34m\"Alice\"\u001b[0m\u001b[0;34m,\u001b[0m \u001b[0;36m25\u001b[0m\u001b[0;34m)\u001b[0m\u001b[0;34m\u001b[0m\u001b[0;34m\u001b[0m\u001b[0m\n\u001b[1;32m      7\u001b[0m \u001b[0mprint\u001b[0m\u001b[0;34m(\u001b[0m\u001b[0mp\u001b[0m\u001b[0;34m.\u001b[0m\u001b[0mname\u001b[0m\u001b[0;34m)\u001b[0m   \u001b[0;31m# Alice\u001b[0m\u001b[0;34m\u001b[0m\u001b[0;34m\u001b[0m\u001b[0m\n\u001b[0;32m----> 8\u001b[0;31m \u001b[0mprint\u001b[0m\u001b[0;34m(\u001b[0m\u001b[0mp\u001b[0m\u001b[0;34m.\u001b[0m\u001b[0m__age\u001b[0m\u001b[0;34m)\u001b[0m  \u001b[0;31m# 비공개 인스턴스 변수에 접근 시 에러 발생\u001b[0m\u001b[0;34m\u001b[0m\u001b[0;34m\u001b[0m\u001b[0m\n\u001b[0m",
            "\u001b[0;31mAttributeError\u001b[0m: 'Person' object has no attribute '__age'"
          ]
        }
      ]
    },
    {
      "cell_type": "code",
      "source": [
        "class People :\n",
        "    def __init__(self, age=0, name=None):\n",
        "        self.__age = age\n",
        "        self.__name = name\n",
        "\n",
        "    def introMe(self):\n",
        "        print(\"Name :\", self.__name, \"age :\", str(self.__age))\n",
        "\n",
        "class Teacher(People) :\n",
        "    def __init__(self, age=0, name=None, school=None) :\n",
        "        super().__init__(age, name)\n",
        "        self.school = school\n",
        "\n",
        "    def showSchool(self):\n",
        "        super().introMe()\n",
        "        print(\"My School is \", self.school)\n",
        "\n",
        "t = Teacher(30, 'Alice', 'PNU')\n",
        "t.showSchool()"
      ],
      "metadata": {
        "colab": {
          "base_uri": "https://localhost:8080/"
        },
        "id": "Yh6B0SVqa-ie",
        "outputId": "c5655e8a-4719-4012-9edc-8a8e75a263dd"
      },
      "execution_count": null,
      "outputs": [
        {
          "output_type": "stream",
          "name": "stdout",
          "text": [
            "Name : Alice age : 30\n",
            "My School is  PNU\n"
          ]
        }
      ]
    },
    {
      "cell_type": "code",
      "source": [
        "class Person:\n",
        "    def __init__(self, name, age):\n",
        "        self.name = name\n",
        "        self.age = age\n",
        "\n",
        "    def getName(self):\n",
        "        print(self.name)\n",
        "\n",
        "    def getAge(self):\n",
        "        print(self.age)\n",
        "\n",
        "class Employee(Person):\n",
        "  def __init__(self, name, age, id):\n",
        "    super().__init__(name, age)\n",
        "    self.id = id\n",
        "\n",
        "  def get_id(self):\n",
        "    return self.id\n",
        "\n",
        "  def showEmployee(self):\n",
        "    print(\"name : \", super().name, \"age : \", str(super().age), \"id : \", str(self.id))\n",
        "\n",
        "e = Employee(\"동양\", 65, 2019)\n",
        "e.showEmployee()"
      ],
      "metadata": {
        "colab": {
          "base_uri": "https://localhost:8080/",
          "height": 349
        },
        "id": "UYfK3mTDc8CG",
        "outputId": "71f4fb8f-05a6-45a8-8b3e-19bc30586a16"
      },
      "execution_count": null,
      "outputs": [
        {
          "output_type": "error",
          "ename": "AttributeError",
          "evalue": "ignored",
          "traceback": [
            "\u001b[0;31m---------------------------------------------------------------------------\u001b[0m",
            "\u001b[0;31mAttributeError\u001b[0m                            Traceback (most recent call last)",
            "\u001b[0;32m<ipython-input-67-2055e172fdfe>\u001b[0m in \u001b[0;36m<cell line: 23>\u001b[0;34m()\u001b[0m\n\u001b[1;32m     21\u001b[0m     \u001b[0mprint\u001b[0m\u001b[0;34m(\u001b[0m\u001b[0;34m\"name : \"\u001b[0m\u001b[0;34m,\u001b[0m \u001b[0msuper\u001b[0m\u001b[0;34m(\u001b[0m\u001b[0;34m)\u001b[0m\u001b[0;34m.\u001b[0m\u001b[0mname\u001b[0m\u001b[0;34m,\u001b[0m \u001b[0;34m\"age : \"\u001b[0m\u001b[0;34m,\u001b[0m \u001b[0mstr\u001b[0m\u001b[0;34m(\u001b[0m\u001b[0msuper\u001b[0m\u001b[0;34m(\u001b[0m\u001b[0;34m)\u001b[0m\u001b[0;34m.\u001b[0m\u001b[0mage\u001b[0m\u001b[0;34m)\u001b[0m\u001b[0;34m,\u001b[0m \u001b[0;34m\"id : \"\u001b[0m\u001b[0;34m,\u001b[0m \u001b[0mstr\u001b[0m\u001b[0;34m(\u001b[0m\u001b[0mself\u001b[0m\u001b[0;34m.\u001b[0m\u001b[0mid\u001b[0m\u001b[0;34m)\u001b[0m\u001b[0;34m)\u001b[0m\u001b[0;34m\u001b[0m\u001b[0;34m\u001b[0m\u001b[0m\n\u001b[1;32m     22\u001b[0m \u001b[0me\u001b[0m \u001b[0;34m=\u001b[0m \u001b[0mEmployee\u001b[0m\u001b[0;34m(\u001b[0m\u001b[0;34m\"동양\"\u001b[0m\u001b[0;34m,\u001b[0m \u001b[0;36m65\u001b[0m\u001b[0;34m,\u001b[0m \u001b[0;36m2019\u001b[0m\u001b[0;34m)\u001b[0m\u001b[0;34m\u001b[0m\u001b[0;34m\u001b[0m\u001b[0m\n\u001b[0;32m---> 23\u001b[0;31m \u001b[0me\u001b[0m\u001b[0;34m.\u001b[0m\u001b[0mshowEmployee\u001b[0m\u001b[0;34m(\u001b[0m\u001b[0;34m)\u001b[0m\u001b[0;34m\u001b[0m\u001b[0;34m\u001b[0m\u001b[0m\n\u001b[0m",
            "\u001b[0;32m<ipython-input-67-2055e172fdfe>\u001b[0m in \u001b[0;36mshowEmployee\u001b[0;34m(self)\u001b[0m\n\u001b[1;32m     19\u001b[0m \u001b[0;34m\u001b[0m\u001b[0m\n\u001b[1;32m     20\u001b[0m   \u001b[0;32mdef\u001b[0m \u001b[0mshowEmployee\u001b[0m\u001b[0;34m(\u001b[0m\u001b[0mself\u001b[0m\u001b[0;34m)\u001b[0m\u001b[0;34m:\u001b[0m\u001b[0;34m\u001b[0m\u001b[0;34m\u001b[0m\u001b[0m\n\u001b[0;32m---> 21\u001b[0;31m     \u001b[0mprint\u001b[0m\u001b[0;34m(\u001b[0m\u001b[0;34m\"name : \"\u001b[0m\u001b[0;34m,\u001b[0m \u001b[0msuper\u001b[0m\u001b[0;34m(\u001b[0m\u001b[0;34m)\u001b[0m\u001b[0;34m.\u001b[0m\u001b[0mname\u001b[0m\u001b[0;34m,\u001b[0m \u001b[0;34m\"age : \"\u001b[0m\u001b[0;34m,\u001b[0m \u001b[0mstr\u001b[0m\u001b[0;34m(\u001b[0m\u001b[0msuper\u001b[0m\u001b[0;34m(\u001b[0m\u001b[0;34m)\u001b[0m\u001b[0;34m.\u001b[0m\u001b[0mage\u001b[0m\u001b[0;34m)\u001b[0m\u001b[0;34m,\u001b[0m \u001b[0;34m\"id : \"\u001b[0m\u001b[0;34m,\u001b[0m \u001b[0mstr\u001b[0m\u001b[0;34m(\u001b[0m\u001b[0mself\u001b[0m\u001b[0;34m.\u001b[0m\u001b[0mid\u001b[0m\u001b[0;34m)\u001b[0m\u001b[0;34m)\u001b[0m\u001b[0;34m\u001b[0m\u001b[0;34m\u001b[0m\u001b[0m\n\u001b[0m\u001b[1;32m     22\u001b[0m \u001b[0me\u001b[0m \u001b[0;34m=\u001b[0m \u001b[0mEmployee\u001b[0m\u001b[0;34m(\u001b[0m\u001b[0;34m\"동양\"\u001b[0m\u001b[0;34m,\u001b[0m \u001b[0;36m65\u001b[0m\u001b[0;34m,\u001b[0m \u001b[0;36m2019\u001b[0m\u001b[0;34m)\u001b[0m\u001b[0;34m\u001b[0m\u001b[0;34m\u001b[0m\u001b[0m\n\u001b[1;32m     23\u001b[0m \u001b[0me\u001b[0m\u001b[0;34m.\u001b[0m\u001b[0mshowEmployee\u001b[0m\u001b[0;34m(\u001b[0m\u001b[0;34m)\u001b[0m\u001b[0;34m\u001b[0m\u001b[0;34m\u001b[0m\u001b[0m\n",
            "\u001b[0;31mAttributeError\u001b[0m: 'super' object has no attribute 'name'"
          ]
        }
      ]
    },
    {
      "cell_type": "code",
      "source": [
        "class Parent1:\n",
        "    def method1(self):\n",
        "        print(\"Parent1's method1\")\n",
        "\n",
        "class Parent2:\n",
        "    def method2(self):\n",
        "        print(\"Parent2's method2\")\n",
        "\n",
        "class Child(Parent1, Parent2):\n",
        "    pass\n",
        "\n",
        "c = Child()\n",
        "c.method1()  # Parent1's method1\n",
        "c.method2()  # Parent2's method2\n"
      ],
      "metadata": {
        "colab": {
          "base_uri": "https://localhost:8080/"
        },
        "id": "WyuShd30e4D_",
        "outputId": "b5a33e28-440f-47c0-f2e6-d302004593fb"
      },
      "execution_count": null,
      "outputs": [
        {
          "output_type": "stream",
          "name": "stdout",
          "text": [
            "Parent1's method1\n",
            "Parent2's method2\n"
          ]
        }
      ]
    },
    {
      "cell_type": "code",
      "source": [
        "class Animal:\n",
        "    def speak(self):\n",
        "        print(\"동물이 소리를 냅니다.\")\n",
        "\n",
        "class Dog(Animal):\n",
        "    def speak(self):\n",
        "        print(\"멍멍!\")\n",
        "\n",
        "class Cat(Animal):\n",
        "    def speak(self):\n",
        "        print(\"야옹!\")\n",
        "\n",
        "# 메서드 오버라이딩을 이용한 다형성 구현\n",
        "animals = [Dog(), Cat()]\n",
        "\n",
        "for animal in animals:\n",
        "    animal.speak() # 각 객체에 따라 다른 동작을 수행\n"
      ],
      "metadata": {
        "colab": {
          "base_uri": "https://localhost:8080/"
        },
        "id": "MKiF7gSoewwl",
        "outputId": "f8c5414d-955f-4d4b-c62a-bf3a9b840687"
      },
      "execution_count": null,
      "outputs": [
        {
          "output_type": "stream",
          "name": "stdout",
          "text": [
            "멍멍!\n",
            "야옹!\n"
          ]
        }
      ]
    },
    {
      "cell_type": "code",
      "source": [
        "class Character:\n",
        "    def __init__(self, name, level, health):\n",
        "        self.name = name\n",
        "        self.level = level\n",
        "        self.health = health\n",
        "\n",
        "    def attack(self):\n",
        "        print(f\"{self.name} attacks with a normal attack.\")\n",
        "\n",
        "class Warrior(Character):\n",
        "    def __init__(self, name, level, health, strength):\n",
        "        super().__init__(name, level, health)\n",
        "        self.strength = strength\n",
        "\n",
        "    def attack(self):\n",
        "        print(f\"{self.name} attacks with a mighty swing.\")\n",
        "\n",
        "    def smash(self):\n",
        "        print(f\"{self.name} smashes the ground with a powerful blow.\")\n",
        "\n",
        "class Mage(Character):\n",
        "    def __init__(self, name, level, health, magic):\n",
        "        super().__init__(name, level, health)\n",
        "        self.magic = magic\n",
        "\n",
        "    def attack(self):\n",
        "        print(f\"{self.name} casts a magic missile.\")\n",
        "\n",
        "    def teleport(self):\n",
        "        print(f\"{self.name} teleports to a nearby location.\")\n",
        "\n",
        "c = Character(\"Bob\", 10, 100)\n",
        "c.attack()  # Bob attacks with a normal attack.\n",
        "\n",
        "w = Warrior(\"Conan\", 20, 200, 15)\n",
        "w.attack()  # Conan attacks with a mighty swing.\n",
        "w.smash()   # Conan smashes the ground with a powerful blow.\n",
        "\n",
        "m = Mage(\"Merlin\", 15, 150, 30)\n",
        "m.attack()  # Merlin casts a magic missile.\n",
        "m.teleport()  # Merlin teleports to a nearby location.\n",
        "\n",
        "\n",
        "\n"
      ],
      "metadata": {
        "colab": {
          "base_uri": "https://localhost:8080/"
        },
        "id": "rbAckSQKfbY6",
        "outputId": "f0e3149f-e296-4bac-9253-906bbd5e8796"
      },
      "execution_count": null,
      "outputs": [
        {
          "output_type": "stream",
          "name": "stdout",
          "text": [
            "Bob attacks with a normal attack.\n",
            "Conan attacks with a mighty swing.\n",
            "Conan smashes the ground with a powerful blow.\n",
            "Merlin casts a magic missile.\n",
            "Merlin teleports to a nearby location.\n",
            "Alice이(가) Goblin을(를) 공격했습니다.\n",
            "Goblin의 체력이 40 남았습니다.\n",
            "Goblin이(가) Alice을(를) 공격했습니다.\n",
            "Alice의 체력이 95 남았습니다.\n",
            "Alice이(가) Goblin을(를) 공격했습니다.\n",
            "Goblin의 체력이 30 남았습니다.\n",
            "Goblin이(가) Alice을(를) 공격했습니다.\n",
            "Alice의 체력이 90 남았습니다.\n",
            "Alice이(가) Goblin을(를) 공격했습니다.\n",
            "Goblin의 체력이 20 남았습니다.\n",
            "Goblin이(가) Alice을(를) 공격했습니다.\n",
            "Alice의 체력이 85 남았습니다.\n",
            "Alice이(가) Goblin을(를) 공격했습니다.\n",
            "Goblin의 체력이 10 남았습니다.\n",
            "Goblin이(가) Alice을(를) 공격했습니다.\n",
            "Alice의 체력이 80 남았습니다.\n",
            "Alice이(가) Goblin을(를) 공격했습니다.\n",
            "Goblin이(가) 죽었습니다.\n"
          ]
        }
      ]
    },
    {
      "cell_type": "code",
      "source": [
        "class Player:\n",
        "    def __init__(self, name, hp, attack):\n",
        "        self.name = name\n",
        "        self.hp = hp\n",
        "        self.attack = attack\n",
        "\n",
        "    def attack_monster(self, monster):\n",
        "        print(f\"{self.name}이(가) {monster.name}을(를) 공격했습니다.\")\n",
        "        damage = self.attack\n",
        "        monster.defend(damage)\n",
        "\n",
        "    def defend(self, damage):\n",
        "        self.hp -= damage\n",
        "        if self.hp <= 0:\n",
        "            print(f\"{self.name}이(가) 죽었습니다.\")\n",
        "        else:\n",
        "            print(f\"{self.name}의 체력이 {self.hp} 남았습니다.\")\n",
        "\n",
        "class Monster:\n",
        "    def __init__(self, name, hp, attack):\n",
        "        self.name = name\n",
        "        self.hp = hp\n",
        "        self.attack = attack\n",
        "\n",
        "    def attack_player(self, player):\n",
        "        print(f\"{self.name}이(가) {player.name}을(를) 공격했습니다.\")\n",
        "        damage = self.attack\n",
        "        player.defend(damage)\n",
        "\n",
        "    def defend(self, damage):\n",
        "        self.hp -= damage\n",
        "        if self.hp <= 0:\n",
        "            print(f\"{self.name}이(가) 죽었습니다.\")\n",
        "        else:\n",
        "            print(f\"{self.name}의 체력이 {self.hp} 남았습니다.\")\n",
        "\n",
        "class Game:\n",
        "    def __init__(self):\n",
        "        self.player = None\n",
        "        self.monster = None\n",
        "\n",
        "    def create_player(self, name, hp, attack):\n",
        "        self.player = Player(name, hp, attack)\n",
        "\n",
        "    def create_monster(self, name, hp, attack):\n",
        "        self.monster = Monster(name, hp, attack)\n",
        "\n",
        "    def fight(self):\n",
        "        while self.player.hp > 0 and self.monster.hp > 0:\n",
        "            self.player.attack_monster(self.monster)\n",
        "            if self.monster.hp <= 0:\n",
        "                break\n",
        "            self.monster.attack_player(self.player)\n",
        "            if self.player.hp <= 0:\n",
        "                break\n",
        "\n",
        "game = Game()\n",
        "game.create_player(\"Alice\", 100, 10)\n",
        "game.create_monster(\"Goblin\", 50, 5)\n",
        "game.fight()"
      ],
      "metadata": {
        "colab": {
          "base_uri": "https://localhost:8080/"
        },
        "id": "xCb6swSCiC9u",
        "outputId": "10ed4f3c-233a-4fff-875d-693d00eb98a7"
      },
      "execution_count": null,
      "outputs": [
        {
          "output_type": "stream",
          "name": "stdout",
          "text": [
            "Alice이(가) Goblin을(를) 공격했습니다.\n",
            "Goblin의 체력이 40 남았습니다.\n",
            "Goblin이(가) Alice을(를) 공격했습니다.\n",
            "Alice의 체력이 95 남았습니다.\n",
            "Alice이(가) Goblin을(를) 공격했습니다.\n",
            "Goblin의 체력이 30 남았습니다.\n",
            "Goblin이(가) Alice을(를) 공격했습니다.\n",
            "Alice의 체력이 90 남았습니다.\n",
            "Alice이(가) Goblin을(를) 공격했습니다.\n",
            "Goblin의 체력이 20 남았습니다.\n",
            "Goblin이(가) Alice을(를) 공격했습니다.\n",
            "Alice의 체력이 85 남았습니다.\n",
            "Alice이(가) Goblin을(를) 공격했습니다.\n",
            "Goblin의 체력이 10 남았습니다.\n",
            "Goblin이(가) Alice을(를) 공격했습니다.\n",
            "Alice의 체력이 80 남았습니다.\n",
            "Alice이(가) Goblin을(를) 공격했습니다.\n",
            "Goblin이(가) 죽었습니다.\n"
          ]
        }
      ]
    },
    {
      "cell_type": "code",
      "source": [
        "from abc import ABC, abstractmethod\n",
        "\n",
        "class Vehicle(ABC):\n",
        "    @abstractmethod\n",
        "    def start(self):\n",
        "        pass\n",
        "\n",
        "    @abstractmethod\n",
        "    def stop(self):\n",
        "        pass\n",
        "\n",
        "class Car(Vehicle):\n",
        "    def start(self):\n",
        "        print(\"Car started.\")\n",
        "\n",
        "    def stop(self):\n",
        "        print(\"Car stopped.\")\n",
        "\n",
        "class Bike(Vehicle):\n",
        "    def start(self):\n",
        "        print(\"Bike started.\")\n",
        "\n",
        "    def stop(self):\n",
        "        print(\"Bike stopped.\")\n",
        "\n",
        "vehicles = [Car(), Bike()]\n",
        "\n",
        "for vehicle in vehicles:\n",
        "    vehicle.start()\n",
        "    vehicle.stop()\n"
      ],
      "metadata": {
        "colab": {
          "base_uri": "https://localhost:8080/"
        },
        "id": "RDLQ-c5jj48p",
        "outputId": "978b3b43-c131-4d07-ac9d-7b0e13c26998"
      },
      "execution_count": null,
      "outputs": [
        {
          "output_type": "stream",
          "name": "stdout",
          "text": [
            "Car started.\n",
            "Car stopped.\n",
            "Bike started.\n",
            "Bike stopped.\n"
          ]
        }
      ]
    },
    {
      "cell_type": "code",
      "source": [
        "class Student:\n",
        "  def __init__(self, name, student_id, year, major, avg_score):\n",
        "    self.name = name\n",
        "    self.student_id = student_id\n",
        "    self.year = year\n",
        "    self.major = major\n",
        "    self.avg_score = avg_score\n",
        "\n",
        "  def get_info(self):\n",
        "    return f\"이름: {self.name}, 학번: {self.student_id}, 학년: {self.year}, 전공: {self.major}, 성적: {self.avg_score}\"\n",
        "\n",
        "class StudentManager:\n",
        "  def __init__(self):\n",
        "    self.student_list = []\n",
        "\n",
        "  def add_student(self, student):\n",
        "    self.student_list.append(student)\n",
        "\n",
        "  def show_all_students(self):\n",
        "    for student in self.student_list:\n",
        "      print(student.get_info())\n",
        "\n",
        "  def remove_student(self, student_id):\n",
        "    for student in self.student_list:\n",
        "      if student.student_id == student_id:\n",
        "        self.student_list.remove(student)\n",
        "\n",
        "  def find_student(self, student_id):\n",
        "    for student in self.student_list:\n",
        "      if student.student_id == student_id:\n",
        "        print(student.get_info())\n",
        "\n",
        "student_M = StudentManager()\n",
        "\n",
        "student1 = Student('홍길동', '2023001', '2', '컴퓨터공학과', 90.5)\n",
        "student2 = Student('김철수', '2023002', '3', '전자공학과', 85.5)\n",
        "student3 = Student('이영희', '2023003', '1', '수학과', 92.8)\n",
        "\n",
        "student_M.add_student(student1)\n",
        "student_M.add_student(student2)\n",
        "student_M.add_student(student3)\n",
        "\n",
        "student_M.show_all_students()\n",
        "print(\"=\"*30)\n",
        "student_M.find_student('2023001')\n",
        "print(\"=\"*30)\n",
        "student_M.remove_student('2023002')\n",
        "student_M.show_all_students()\n"
      ],
      "metadata": {
        "colab": {
          "base_uri": "https://localhost:8080/"
        },
        "id": "OkpaqRMjkl49",
        "outputId": "e16f1cab-ecbc-49fd-b819-c64377a71484"
      },
      "execution_count": null,
      "outputs": [
        {
          "output_type": "stream",
          "name": "stdout",
          "text": [
            "이름: 홍길동, 학번: 2023001, 학년: 2, 전공: 컴퓨터공학과, 성적: 90.5\n",
            "이름: 김철수, 학번: 2023002, 학년: 3, 전공: 전자공학과, 성적: 85.5\n",
            "이름: 이영희, 학번: 2023003, 학년: 1, 전공: 수학과, 성적: 92.8\n",
            "==============================\n",
            "이름: 홍길동, 학번: 2023001, 학년: 2, 전공: 컴퓨터공학과, 성적: 90.5\n",
            "==============================\n",
            "이름: 홍길동, 학번: 2023001, 학년: 2, 전공: 컴퓨터공학과, 성적: 90.5\n",
            "이름: 이영희, 학번: 2023003, 학년: 1, 전공: 수학과, 성적: 92.8\n"
          ]
        }
      ]
    },
    {
      "cell_type": "code",
      "source": [
        "import random\n",
        "\n",
        "help(random.randint)"
      ],
      "metadata": {
        "colab": {
          "base_uri": "https://localhost:8080/"
        },
        "id": "Fh59CM18Iv8M",
        "outputId": "cd58db13-4088-4e8b-949e-49618ff49463"
      },
      "execution_count": null,
      "outputs": [
        {
          "output_type": "stream",
          "name": "stdout",
          "text": [
            "Help on method randint in module random:\n",
            "\n",
            "randint(a, b) method of random.Random instance\n",
            "    Return random integer in range [a, b], including both end points.\n",
            "\n"
          ]
        }
      ]
    },
    {
      "cell_type": "code",
      "source": [
        "from my_module import greet\n",
        "\n",
        "greet('kim ji hoon')"
      ],
      "metadata": {
        "colab": {
          "base_uri": "https://localhost:8080/"
        },
        "id": "O8dsLBj-MFKx",
        "outputId": "3d03150a-fd24-4a2e-b33d-89fa8f27fb6d"
      },
      "execution_count": null,
      "outputs": [
        {
          "output_type": "stream",
          "name": "stdout",
          "text": [
            "Hello, kim ji hoon!\n"
          ]
        }
      ]
    },
    {
      "cell_type": "code",
      "source": [
        "def add(x, y):\n",
        "  return x + y\n",
        "def subtract(x, y):\n",
        "  return x - y\n",
        "def multiply(x, y):\n",
        "  return x * y\n",
        "def divide(x, y):\n",
        "  if y == 0:\n",
        "    print('0으로 나눌 수 없습니다.')\n",
        "  return x / y\n",
        "if __name__ == '__main__':\n",
        "  print(add(4, 3))\n",
        "  print(subtract(4, 3))\n",
        "  print(multiply(4, 3))\n",
        "  print(divide(4, 3))"
      ],
      "metadata": {
        "colab": {
          "base_uri": "https://localhost:8080/"
        },
        "id": "STabo17ON9Li",
        "outputId": "b82043ef-46cf-4920-adc6-ccad1d32ffe7"
      },
      "execution_count": null,
      "outputs": [
        {
          "output_type": "stream",
          "name": "stdout",
          "text": [
            "7\n",
            "1\n",
            "12\n",
            "1.3333333333333333\n"
          ]
        }
      ]
    },
    {
      "cell_type": "code",
      "source": [
        "from mymath import *\n",
        "x = 3\n",
        "y = 4\n",
        "print(add(x, y))\n",
        "print(subtract(x, y))\n",
        "print(multiply(x, y))\n",
        "print(divide(x, y))"
      ],
      "metadata": {
        "colab": {
          "base_uri": "https://localhost:8080/"
        },
        "id": "d66770fUOxsM",
        "outputId": "8adf2d53-2b09-4203-aa9e-8a299bc3c3b7"
      },
      "execution_count": null,
      "outputs": [
        {
          "output_type": "stream",
          "name": "stdout",
          "text": [
            "7\n",
            "-1\n",
            "12\n",
            "0.75\n"
          ]
        }
      ]
    },
    {
      "cell_type": "code",
      "source": [
        "pip install matplotlib"
      ],
      "metadata": {
        "colab": {
          "base_uri": "https://localhost:8080/"
        },
        "id": "UchXEMANROKx",
        "outputId": "63949f73-5be6-4b55-a1e8-eea8285c02e6"
      },
      "execution_count": null,
      "outputs": [
        {
          "output_type": "stream",
          "name": "stdout",
          "text": [
            "Requirement already satisfied: matplotlib in /usr/local/lib/python3.10/dist-packages (3.7.1)\n",
            "Requirement already satisfied: contourpy>=1.0.1 in /usr/local/lib/python3.10/dist-packages (from matplotlib) (1.1.0)\n",
            "Requirement already satisfied: cycler>=0.10 in /usr/local/lib/python3.10/dist-packages (from matplotlib) (0.11.0)\n",
            "Requirement already satisfied: fonttools>=4.22.0 in /usr/local/lib/python3.10/dist-packages (from matplotlib) (4.42.0)\n",
            "Requirement already satisfied: kiwisolver>=1.0.1 in /usr/local/lib/python3.10/dist-packages (from matplotlib) (1.4.4)\n",
            "Requirement already satisfied: numpy>=1.20 in /usr/local/lib/python3.10/dist-packages (from matplotlib) (1.23.5)\n",
            "Requirement already satisfied: packaging>=20.0 in /usr/local/lib/python3.10/dist-packages (from matplotlib) (23.1)\n",
            "Requirement already satisfied: pillow>=6.2.0 in /usr/local/lib/python3.10/dist-packages (from matplotlib) (9.4.0)\n",
            "Requirement already satisfied: pyparsing>=2.3.1 in /usr/local/lib/python3.10/dist-packages (from matplotlib) (3.1.1)\n",
            "Requirement already satisfied: python-dateutil>=2.7 in /usr/local/lib/python3.10/dist-packages (from matplotlib) (2.8.2)\n",
            "Requirement already satisfied: six>=1.5 in /usr/local/lib/python3.10/dist-packages (from python-dateutil>=2.7->matplotlib) (1.16.0)\n"
          ]
        }
      ]
    },
    {
      "cell_type": "code",
      "source": [
        "import matplotlib.pyplot as plt\n",
        "import numpy as np\n",
        "\n",
        "# 데이터 생성\n",
        "x = np.linspace(-np.pi, np.pi, 100)\n",
        "y_sin = np.sin(x)\n",
        "y_cos = np.cos(x)\n",
        "\n",
        "# 그래프 그리기\n",
        "plt.plot(x, y_sin, label='sin')#선그래프\n",
        "plt.plot(x, y_cos, label='cos')\n",
        "plt.xlabel('x')#그래프 설명\n",
        "plt.ylabel('y')\n",
        "plt.title('Sin and Cos Functions')#제목\n",
        "plt.legend()#범례\n",
        "plt.show()\n"
      ],
      "metadata": {
        "colab": {
          "base_uri": "https://localhost:8080/",
          "height": 472
        },
        "id": "wdhXQ-K8RZM5",
        "outputId": "25409156-3165-4c93-bb3f-8bab2bc749b0"
      },
      "execution_count": null,
      "outputs": [
        {
          "output_type": "display_data",
          "data": {
            "text/plain": [
              "<Figure size 640x480 with 1 Axes>"
            ],
            "image/png": "[encoded data removed]"
          },
          "metadata": {}
        }
      ]
    },
    {
      "cell_type": "code",
      "source": [
        "file = open(\"example.txt\", \"r\")\n",
        "\n",
        "c = file.read()\n",
        "print(c)\n",
        "\n",
        "file.seek(0)\n",
        "c = file.readline()\n",
        "d = file.readline()\n",
        "print(c, '+'*40, '\\n', d)\n",
        "\n",
        "file.seek(0)\n",
        "c = file.readlines()\n",
        "print(c)\n",
        "\n",
        "file.close()"
      ],
      "metadata": {
        "colab": {
          "base_uri": "https://localhost:8080/"
        },
        "id": "4U1PlJL1X_dp",
        "outputId": "c012d156-94eb-493f-92e9-0e4f3c4dfd3b"
      },
      "execution_count": null,
      "outputs": [
        {
          "output_type": "stream",
          "name": "stdout",
          "text": [
            "This is an example file.\n",
            "We will use it to demonstrate file reading in Python.\n",
            "This is an example file.\n",
            " ++++++++++++++++++++++++++++++++++++++++ \n",
            " We will use it to demonstrate file reading in Python.\n",
            "['This is an example file.\\n', 'We will use it to demonstrate file reading in Python.']\n"
          ]
        }
      ]
    },
    {
      "cell_type": "code",
      "source": [
        "file = open(\"test.txt\", \"w\")\n",
        "file.writelines([\"hello\\n\", \"hello\"])\n",
        "\n",
        "file.close()"
      ],
      "metadata": {
        "id": "FuYyuEXIZrQN"
      },
      "execution_count": null,
      "outputs": []
    },
    {
      "cell_type": "code",
      "source": [
        "number = ''\n",
        "try:\n",
        "    user_input = input(\"Enter a number: \")\n",
        "    number = int(user_input)\n",
        "    print(number)\n",
        "except ValueError:\n",
        "    print(\"Invalid input. Please enter a valid number.\")\n"
      ],
      "metadata": {
        "colab": {
          "base_uri": "https://localhost:8080/"
        },
        "id": "dvfMhsZ7cgxk",
        "outputId": "e5008842-043d-4d74-b142-5c2e8b240b1f"
      },
      "execution_count": null,
      "outputs": [
        {
          "output_type": "stream",
          "name": "stdout",
          "text": [
            "Enter a number: dd\n",
            "Invalid input. Please enter a valid number.\n"
          ]
        }
      ]
    },
    {
      "cell_type": "code",
      "source": [
        "try:\n",
        "    file = open(\"example1.txt\", \"r\")\n",
        "    content = file.read()\n",
        "except FileNotFoundError:\n",
        "    print(\"File not found. Please check the file name.\")\n",
        "except PermissionError:\n",
        "    print(\"Permission denied. You don't have the required permission to read this file.\")\n",
        "else:\n",
        "    print(\"File content:\")\n",
        "    print(content)\n",
        "    file.close()\n"
      ],
      "metadata": {
        "colab": {
          "base_uri": "https://localhost:8080/"
        },
        "id": "gS2-SJGte5sR",
        "outputId": "2c499a6a-fb9b-4db5-968b-23be7e269d0a"
      },
      "execution_count": null,
      "outputs": [
        {
          "output_type": "stream",
          "name": "stdout",
          "text": [
            "File not found. Please check the file name.\n"
          ]
        }
      ]
    },
    {
      "cell_type": "code",
      "source": [
        "data = {\"Sun\": 0, \"Mon\": 1, \"Tue\": 2, \"Wed\": 3, \"Thu\": 4, \"Fri\": 5, \"Sat\": 6}\n",
        "a = 0\n",
        "while a == 0:\n",
        "  try:\n",
        "    a = 0\n",
        "    u = input(\"입력하세요: \")\n",
        "    print(data[u])\n",
        "  except KeyError:\n",
        "    a = 1\n",
        "    print(\"항목이 없습니다.\")"
      ],
      "metadata": {
        "colab": {
          "base_uri": "https://localhost:8080/"
        },
        "id": "z5r6YNxFh9Zt",
        "outputId": "37838882-3243-4d1c-84a8-8b5c2e23f461"
      },
      "execution_count": null,
      "outputs": [
        {
          "output_type": "stream",
          "name": "stdout",
          "text": [
            "입력하세요: Sun\n",
            "0\n",
            "입력하세요: Mon\n",
            "1\n",
            "입력하세요: Sat\n",
            "6\n",
            "입력하세요: sat\n",
            "항목이 없습니다.\n"
          ]
        }
      ]
    },
    {
      "cell_type": "code",
      "source": [
        "data = {\"Sun\": 0, \"Mon\": 1, \"Tue\": 2, \"Wed\": 3, \"Thu\": 4, \"Fri\": 5, \"Sat\": 6}\n",
        "\n",
        "u = input(\"입력하세요: \")\n",
        "v = data.get(u)\n",
        "\n",
        "if v is not None:\n",
        "  print(v)\n",
        "else:\n",
        "  print(\"항목이 없습니다.\")\n"
      ],
      "metadata": {
        "colab": {
          "base_uri": "https://localhost:8080/"
        },
        "id": "XpYLHJn1jMMQ",
        "outputId": "a7708abf-007c-454e-e92e-f3bf7424dbf5"
      },
      "execution_count": null,
      "outputs": [
        {
          "output_type": "stream",
          "name": "stdout",
          "text": [
            "입력하세요: sun\n",
            "항목이 없습니다.\n"
          ]
        }
      ]
    }
  ]
}