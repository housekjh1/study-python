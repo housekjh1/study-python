{
  "nbformat": 4,
  "nbformat_minor": 0,
  "metadata": {
    "colab": {
      "provenance": [],
      "authorship_tag": "ABX9TyOK5jfUVIAs+rMkHs7ENWwu",
      "include_colab_link": true
    },
    "kernelspec": {
      "name": "python3",
      "display_name": "Python 3"
    },
    "language_info": {
      "name": "python"
    }
  },
  "cells": [
    {
      "cell_type": "markdown",
      "metadata": {
        "id": "view-in-github",
        "colab_type": "text"
      },
      "source": [
        "<a href=\"https://colab.research.google.com/github/housekjh1/study-python/blob/main/K%EB%94%94%EC%A7%80%ED%84%B84%EA%B8%B0_1.ipynb\" target=\"_parent\"><img src=\"https://colab.research.google.com/assets/colab-badge.svg\" alt=\"Open In Colab\"/></a>"
      ]
    },
    {
      "cell_type": "markdown",
      "source": [
        "사칙연산 계산"
      ],
      "metadata": {
        "id": "XVPflad1Z6CS"
      }
    },
    {
      "cell_type": "code",
      "execution_count": null,
      "metadata": {
        "id": "QutvDTE-ZQti"
      },
      "outputs": [],
      "source": [
        "3+5"
      ]
    },
    {
      "cell_type": "markdown",
      "source": [
        "예약어"
      ],
      "metadata": {
        "id": "o6iHAsZccJl2"
      }
    },
    {
      "cell_type": "code",
      "source": [
        "import keyword\n",
        "\n",
        "print(keyword.kwlist)"
      ],
      "metadata": {
        "id": "rlFb2HzUcLaF"
      },
      "execution_count": null,
      "outputs": []
    },
    {
      "cell_type": "markdown",
      "source": [
        "복소수\n",
        "1. 생성\n",
        "2. 연산\n",
        "3. 출력"
      ],
      "metadata": {
        "id": "XWu0hlwodzjF"
      }
    },
    {
      "cell_type": "code",
      "source": [
        "# 복소수 생성\n",
        "z1 = 2 + 3j\n",
        "z2 = complex(4, -2)\n",
        "\n",
        "# 복소수 연산\n",
        "z3 = z1 + z2\n",
        "z4 = z1 * z2\n",
        "z5 = z1 / z2\n",
        "z6 = z1 ** 2\n",
        "\n",
        "# 결과 출력\n",
        "print(z3)   # (6+1j)\n",
        "print(z4)   # (14+8j)\n",
        "print(z5)   # (-0.4+0.7j)\n",
        "print(z6)   # (-5+12j)\n"
      ],
      "metadata": {
        "id": "cIQqfrtadlbg"
      },
      "execution_count": null,
      "outputs": []
    },
    {
      "cell_type": "markdown",
      "source": [
        "타입 에러"
      ],
      "metadata": {
        "id": "8bbhO2hbgu5S"
      }
    },
    {
      "cell_type": "code",
      "source": [
        "num = 10\n",
        "text = \"apple\"\n",
        "print(str(num) + text)\n"
      ],
      "metadata": {
        "colab": {
          "base_uri": "https://localhost:8080/"
        },
        "id": "dMNsA6w4gd1q",
        "outputId": "d107f91f-938f-497a-b43a-99a4ce831191"
      },
      "execution_count": null,
      "outputs": [
        {
          "output_type": "stream",
          "name": "stdout",
          "text": [
            "10apple\n"
          ]
        }
      ]
    },
    {
      "cell_type": "code",
      "source": [
        "num = 1.2\n",
        "print(type(num))"
      ],
      "metadata": {
        "colab": {
          "base_uri": "https://localhost:8080/"
        },
        "id": "xfYjklkfhV0d",
        "outputId": "876fbf36-0dd4-4175-a294-e0bf5d47035f"
      },
      "execution_count": null,
      "outputs": [
        {
          "output_type": "stream",
          "name": "stdout",
          "text": [
            "<class 'float'>\n"
          ]
        }
      ]
    },
    {
      "cell_type": "markdown",
      "source": [
        "리스트"
      ],
      "metadata": {
        "id": "mxotwfqIifZA"
      }
    },
    {
      "cell_type": "code",
      "source": [
        "fruits = [\"apple\", \"banana\", \"cherry\"]\n",
        "print(fruits)\n",
        "print(fruits[1])\n",
        "fruits[1] = \"orange\"\n",
        "print(fruits)\n"
      ],
      "metadata": {
        "colab": {
          "base_uri": "https://localhost:8080/"
        },
        "id": "9pd5HBPdiowU",
        "outputId": "1b52beb3-240b-441c-cc2b-beb27e26f13e"
      },
      "execution_count": null,
      "outputs": [
        {
          "output_type": "stream",
          "name": "stdout",
          "text": [
            "['apple', 'banana', 'cherry']\n",
            "banana\n",
            "['apple', 'orange', 'cherry']\n"
          ]
        }
      ]
    },
    {
      "cell_type": "markdown",
      "source": [
        "튜플"
      ],
      "metadata": {
        "id": "nc2cfiVVigyC"
      }
    },
    {
      "cell_type": "code",
      "source": [
        "fruits = (\"apple\", \"banana\", \"cherry\")\n",
        "print(fruits)\n",
        "print(fruits[1])\n"
      ],
      "metadata": {
        "colab": {
          "base_uri": "https://localhost:8080/"
        },
        "id": "R9Iedd8KiqHg",
        "outputId": "7a0b8153-579a-403e-b13e-0c5bf377c190"
      },
      "execution_count": null,
      "outputs": [
        {
          "output_type": "stream",
          "name": "stdout",
          "text": [
            "('apple', 'banana', 'cherry')\n",
            "banana\n"
          ]
        }
      ]
    },
    {
      "cell_type": "markdown",
      "source": [
        "딕셔너리"
      ],
      "metadata": {
        "id": "j5t9U9NViiC-"
      }
    },
    {
      "cell_type": "code",
      "source": [
        "fruits = {\"apple\": 3, \"banana\": 2, \"cherry\": 5}\n",
        "print(fruits)\n",
        "print(fruits[\"banana\"])\n",
        "fruits[\"orange\"] = 4\n",
        "print(fruits)\n"
      ],
      "metadata": {
        "colab": {
          "base_uri": "https://localhost:8080/"
        },
        "id": "tkYDlNHLiwaq",
        "outputId": "0f7870b5-3417-44c3-bede-be9397d18367"
      },
      "execution_count": null,
      "outputs": [
        {
          "output_type": "stream",
          "name": "stdout",
          "text": [
            "{'apple': 3, 'banana': 2, 'cherry': 5}\n",
            "2\n",
            "{'apple': 3, 'banana': 2, 'cherry': 5, 'orange': 4}\n"
          ]
        }
      ]
    },
    {
      "cell_type": "markdown",
      "source": [
        "멤버쉽 연산자"
      ],
      "metadata": {
        "id": "msZzNfCjnxn2"
      }
    },
    {
      "cell_type": "code",
      "source": [
        "# 멤버쉽 연산자 사용 예제\n",
        "a = [1, 2, 3, 4, 5]\n",
        "b = \"Hello, World!\"\n",
        "print(3 in a)  # True 출력\n",
        "print(6 in a)  # False 출력\n",
        "print(\"o\" in b)  # True 출력\n",
        "print(\"k\" not in b)  # True 출력"
      ],
      "metadata": {
        "colab": {
          "base_uri": "https://localhost:8080/"
        },
        "id": "D6g1_0hjnzw7",
        "outputId": "15df8142-053c-4f98-a3a1-4705b9c72b0c"
      },
      "execution_count": null,
      "outputs": [
        {
          "output_type": "stream",
          "name": "stdout",
          "text": [
            "True\n",
            "False\n",
            "True\n",
            "True\n"
          ]
        }
      ]
    },
    {
      "cell_type": "markdown",
      "source": [
        "포매팅"
      ],
      "metadata": {
        "id": "oXp-81AEsQq5"
      }
    },
    {
      "cell_type": "code",
      "source": [
        "# % 연산자를 이용한 포매팅\n",
        "name = \"John\"\n",
        "age = 30\n",
        "height = 175.5\n",
        "\n",
        "text = \"My name is %s, I'm %d years old, and my height is %.1f.\" % (name, age, height)\n",
        "\n",
        "print(text)\n",
        "# 출력 결과: \"My name is John, I'm 30 years old, and my height is 175.5.\"\n"
      ],
      "metadata": {
        "colab": {
          "base_uri": "https://localhost:8080/"
        },
        "id": "JslWSY-CqfGr",
        "outputId": "92ae02a0-da86-4168-99f6-3d2b36926132"
      },
      "execution_count": null,
      "outputs": [
        {
          "output_type": "stream",
          "name": "stdout",
          "text": [
            "My name is John, I'm 30 years old, and my height is 175.5.\n"
          ]
        }
      ]
    },
    {
      "cell_type": "code",
      "source": [
        "# 출력 형식 지정 예제\n",
        "num = 10\n",
        "pi = 3.14159265\n",
        "\n",
        "print(\"num = %d\" % num)  # 출력 결과: \"num = 10\"\n",
        "print(\"pi = %f\" % pi)  # 출력 결과: \"pi = 3.141593\"\n",
        "print(\"pi = %.2f\" % pi)  # 출력 결과: \"pi = 3.14\"\n",
        "print(\"pi = %10.2f\" % pi)  # 출력 결과: \"pi =       3.14\""
      ],
      "metadata": {
        "colab": {
          "base_uri": "https://localhost:8080/"
        },
        "id": "iLU7ZdNVsSRR",
        "outputId": "ad61ef9d-dc7c-4c19-a79c-d6cedd2af24d"
      },
      "execution_count": null,
      "outputs": [
        {
          "output_type": "stream",
          "name": "stdout",
          "text": [
            "num = 10\n",
            "pi = 3.141593\n",
            "pi = 3.14\n",
            "pi =       3.14\n"
          ]
        }
      ]
    },
    {
      "cell_type": "code",
      "source": [
        "# format() 메소드를 이용한 포매팅\n",
        "name = \"John\"\n",
        "age = 30\n",
        "height = 175.5\n",
        "\n",
        "text = \"My name is {}, I'm {} years old, and my height is {:.1f}.\".format(name, age, height)\n",
        "\n",
        "print(text)\n",
        "# 출력 결과: \"My name is John, I'm 30 years old, and my height is 175.5.\"\n",
        "\n",
        "# 인덱스를 이용한 포매팅 예제\n",
        "name = \"John\"\n",
        "age = 30\n",
        "height = 175.5\n",
        "\n",
        "print(\"My name is {0}, I'm {1} years old, and my height is {2:.1f}.\".format(name, age, height))\n",
        "# 출력 결과: \"My name is John, I'm 30 years old, and my height is 175.5.\"\n",
        "\n",
        "# 문자열\n",
        "name = \"John\"\n",
        "print(\"Hello, {}!\".format(name))\n",
        "\n",
        "# 정수\n",
        "num = 42\n",
        "print(\"The answer is {}.\".format(num))\n",
        "\n",
        "# 실수\n",
        "pi = 3.14159\n",
        "print(\"Pi is approximately {:.2f}.\".format(pi))\n",
        "\n",
        "# 여러 개의 변수\n",
        "first_name = \"Jane\"\n",
        "last_name = \"Doe\"\n",
        "age = 25\n",
        "print(\"My name is {} {} and I am {} years old.\".format(first_name, last_name, age))\n",
        "\n",
        "# 인덱스를 이용한 대입\n",
        "first_name = \"Jane\"\n",
        "last_name = \"Doe\"\n",
        "age = 25\n",
        "print(\"My name is {1} {0} and I am {2} years old.\".format(last_name, first_name, age))\n"
      ],
      "metadata": {
        "colab": {
          "base_uri": "https://localhost:8080/"
        },
        "id": "AUKrkcRts5D0",
        "outputId": "7163635d-7f95-40a2-8c96-657b63205bf5"
      },
      "execution_count": null,
      "outputs": [
        {
          "output_type": "stream",
          "name": "stdout",
          "text": [
            "My name is John, I'm 30 years old, and my height is 175.5.\n"
          ]
        }
      ]
    },
    {
      "cell_type": "code",
      "source": [
        "# f-string을 이용한 문자열 포매팅\n",
        "name = \"John\"\n",
        "age = 30\n",
        "height = 175.5\n",
        "\n",
        "print(f\"My name is {name}, I'm {age} years old, and my height is {height:.1f}.\")\n",
        "# 출력 결과: \"My name is John, I'm 30 years old, and my height is 175.5.\"\n"
      ],
      "metadata": {
        "colab": {
          "base_uri": "https://localhost:8080/"
        },
        "id": "5kHykIa3uDBW",
        "outputId": "8fabb372-913c-4c39-e50f-90db9e28a8cd"
      },
      "execution_count": null,
      "outputs": [
        {
          "output_type": "stream",
          "name": "stdout",
          "text": [
            "My name is John, I'm 30 years old, and my height is 175.5.\n"
          ]
        }
      ]
    },
    {
      "cell_type": "code",
      "source": [
        "name = \"Tom\"\n",
        "age = 20\n",
        "\n",
        "print(f\"My name is {name} and I am {age} years old.\")\n",
        "print(\"My name is {} and I am {} years old.\" .format(name, age))\n",
        "print(\"My name is %s and I am %d years old.\" % (name, age))"
      ],
      "metadata": {
        "colab": {
          "base_uri": "https://localhost:8080/"
        },
        "id": "GpawhHPEuxHG",
        "outputId": "5f17436f-317a-4dde-f43b-c6646ee83212"
      },
      "execution_count": null,
      "outputs": [
        {
          "output_type": "stream",
          "name": "stdout",
          "text": [
            "My name is Tom and I am 20 years old.\n",
            "My name is Tom and I am 20 years old.\n",
            "My name is Tom and I am 20 years old.\n"
          ]
        }
      ]
    },
    {
      "cell_type": "code",
      "source": [
        "a = 1\n",
        "b = 2\n",
        "c = 3\n",
        "\n",
        "print(f\"I have {c} apples, {b} oranges, and {a} banana.\")"
      ],
      "metadata": {
        "colab": {
          "base_uri": "https://localhost:8080/"
        },
        "id": "v88Ox75Ivl_7",
        "outputId": "10d1c9cf-f0ec-43ed-fb7b-19d02c45ccf1"
      },
      "execution_count": null,
      "outputs": [
        {
          "output_type": "stream",
          "name": "stdout",
          "text": [
            "I have 3 apples, 2 oranges, and 1 banana.\n"
          ]
        }
      ]
    },
    {
      "cell_type": "code",
      "source": [
        "a = 1.2312\n",
        "\n",
        "print(f\"The result is {a:.2f}.\")"
      ],
      "metadata": {
        "colab": {
          "base_uri": "https://localhost:8080/"
        },
        "id": "EPZL1q93v6cn",
        "outputId": "7ca3cd64-c341-4871-da18-ea6354d878e5"
      },
      "execution_count": null,
      "outputs": [
        {
          "output_type": "stream",
          "name": "stdout",
          "text": [
            "The result is 1.23.\n"
          ]
        }
      ]
    },
    {
      "cell_type": "code",
      "source": [
        "a = 90\n",
        "\n",
        "print(f\"Your score is {a}%.\")"
      ],
      "metadata": {
        "colab": {
          "base_uri": "https://localhost:8080/"
        },
        "id": "NgJl_IQ0wCDS",
        "outputId": "4f002722-e28d-4a97-e1be-4cbc321268da"
      },
      "execution_count": null,
      "outputs": [
        {
          "output_type": "stream",
          "name": "stdout",
          "text": [
            "Your score is 90%.\n"
          ]
        }
      ]
    },
    {
      "cell_type": "code",
      "source": [
        "a = 10\n",
        "b = 20\n",
        "c = a + b\n",
        "\n",
        "print(f\"{a} + {b} = {c}\")"
      ],
      "metadata": {
        "colab": {
          "base_uri": "https://localhost:8080/"
        },
        "id": "yeb5ZQZXwQSq",
        "outputId": "17ce6648-b0e6-4785-eaca-d09f4d88e1cc"
      },
      "execution_count": null,
      "outputs": [
        {
          "output_type": "stream",
          "name": "stdout",
          "text": [
            "10 + 20 = 30\n"
          ]
        }
      ]
    },
    {
      "cell_type": "markdown",
      "source": [
        "Input"
      ],
      "metadata": {
        "id": "H1ipSC8CzOaU"
      }
    },
    {
      "cell_type": "code",
      "source": [
        "# input() 함수를 이용하여 사용자로부터 입력 받기\n",
        "name = input(\"What is your name? \")\n",
        "print(f\"Hello, {name}!\")\n"
      ],
      "metadata": {
        "colab": {
          "base_uri": "https://localhost:8080/"
        },
        "id": "nTyhDeIZzPyG",
        "outputId": "7e937a01-1584-4849-a4db-d2676598e593"
      },
      "execution_count": null,
      "outputs": [
        {
          "output_type": "stream",
          "name": "stdout",
          "text": [
            "What is your name? LIMNB\n",
            "Hello, LIMNB!\n"
          ]
        }
      ]
    },
    {
      "cell_type": "markdown",
      "source": [
        "Input은 문자열로 반환됨"
      ],
      "metadata": {
        "id": "36bj82-f0UVb"
      }
    },
    {
      "cell_type": "code",
      "source": [
        "# input() 함수를 이용하여 사용자로부터 입력받아 계산하기\n",
        "num1 = input(\"첫 번째 정수를 입력하세요: \")\n",
        "num1 = int(num1)\n",
        "num2 = int(input(\"두 번째 정수를 입력하세요: \"))\n",
        "\n",
        "addition = num1 + num2\n",
        "subtraction = num1 - num2\n",
        "multiplication = num1 * num2\n",
        "division = num1 / num2\n",
        "\n",
        "print(f\"{num1} + {num2} = {addition}\")\n",
        "print(f\"{num1} - {num2} = {subtraction}\")\n",
        "print(f\"{num1} * {num2} = {multiplication}\")\n",
        "print(f\"{num1} / {num2} = {division:.2f}\")\n"
      ],
      "metadata": {
        "colab": {
          "base_uri": "https://localhost:8080/"
        },
        "id": "cWbC_Iqhzzm5",
        "outputId": "8d64971d-85dd-4e47-c887-ebb28535db9c"
      },
      "execution_count": null,
      "outputs": [
        {
          "output_type": "stream",
          "name": "stdout",
          "text": [
            "첫 번째 정수를 입력하세요: 10\n",
            "두 번째 정수를 입력하세요: 20\n",
            "10 + 20 = 30\n",
            "10 - 20 = -10\n",
            "10 * 20 = 200\n",
            "10 / 20 = 0.50\n"
          ]
        }
      ]
    },
    {
      "cell_type": "code",
      "source": [
        "# input(), 포매팅, 산술식을 이용하여 계산하기\n",
        "num1 = int(input(\"첫 번째 숫자를 입력하세요: \"))\n",
        "num2 = int(input(\"두 번째 숫자를 입력하세요: \"))\n",
        "\n",
        "result = f\"\"\"\n",
        "입력한 숫자:\n",
        "첫 번째 숫자: {num1}\n",
        "두 번째 숫자: {num2}\n",
        "\n",
        "산술 연산 결과:\n",
        "{num1} + {num2} = {num1 + num2}\n",
        "{num1} - {num2} = {num1 - num2}\n",
        "{num1} * {num2} = {num1 * num2}\n",
        "{num1} / {num2} = {num1 / num2:.2f}\n",
        "\"\"\"\n",
        "\n",
        "print(result)"
      ],
      "metadata": {
        "colab": {
          "base_uri": "https://localhost:8080/"
        },
        "id": "qQgELG7R01eH",
        "outputId": "9823522c-96cd-4883-aa20-384a3d3f4796"
      },
      "execution_count": null,
      "outputs": [
        {
          "output_type": "stream",
          "name": "stdout",
          "text": [
            "첫 번째 숫자를 입력하세요: 10\n",
            "두 번째 숫자를 입력하세요: 20\n",
            "\n",
            "입력한 숫자:\n",
            "첫 번째 숫자: 10\n",
            "두 번째 숫자: 20\n",
            "\n",
            "산술 연산 결과:\n",
            "10 + 20 = 30\n",
            "10 - 20 = -10\n",
            "10 * 20 = 200\n",
            "10 / 20 = 0.50\n",
            "\n"
          ]
        }
      ]
    },
    {
      "cell_type": "code",
      "source": [
        "# 사과 쇼핑몰\n",
        "qty = int(input(\"사과의 개수를 입력하세요.: \"))\n",
        "price = int(input(\"사과의 갯수당 가격을 입력하세요.: \"))\n",
        "tax = float(input(\"부가세율을 입력하세요(%).: \"))/100\n",
        "'''\n",
        "result = f\"\"\"\n",
        "입력한 숫자:\n",
        "갯수: {qty}\n",
        "개당 가격: {price}\n",
        "부가세율: {tax}\n",
        "총가격\n",
        "\n",
        "총가격:\n",
        "{qty} * {price} * {tax} = {qty * price + (qty * price) * tax}\n",
        "\"\"\"\n",
        "\n",
        "print(result)\n",
        "'''\n",
        "\n",
        "total_price = qty * price\n",
        "total_tax = total_price * tax\n",
        "output_price = total_price + total_tax\n",
        "\n",
        "output = f\"[결제 금액]\\n사과가격:{price}원\\n수량:{qty}개\\n부가세:{int(total_tax)}원\\n총 가격:{int(output_price)}원\"\n",
        "print(output)"
      ],
      "metadata": {
        "colab": {
          "base_uri": "https://localhost:8080/"
        },
        "id": "htjp12tK1FO8",
        "outputId": "6bd6186f-6fbd-4905-fcb6-1ca273c71a0c"
      },
      "execution_count": null,
      "outputs": [
        {
          "output_type": "stream",
          "name": "stdout",
          "text": [
            "사과의 개수를 입력하세요.: 10\n",
            "사과의 갯수당 가격을 입력하세요.: 600\n",
            "부가세율을 입력하세요(%).: 10\n",
            "[결제 금액]\n",
            "사과가격:600원\n",
            "수량:10개\n",
            "부가세:600원\n",
            "총 가격:6600원\n"
          ]
        }
      ]
    },
    {
      "cell_type": "markdown",
      "source": [
        "추가문제\n",
        "\n",
        "- 초를 입력하면 분과 초로 표시하는 프로그램. 예를 들어, 200초를 입력하면 3분 20초로 표현하라\n",
        "\n",
        "- 분(min)을 입력 하면, 일, 시간, 분으로 출력하는 프로그램을 만들어라. (예 : 1550분은 1일 1시간 50분)\n",
        "\n",
        "- 500만원을 년이율 5%로 복리 저금했을 때 5년 후의 원리금의 합계를 출력하는 프로그램\n",
        "\n",
        "- 1부터 n까지의 합은 n(n+1)/2로 주어진다. 1부터 100까지의 합을 구하여 출력하는 프로그램을 작성하고 실행하라.\n",
        "\n",
        "- 판매자가 딸기와 포도를 판매하고 있다. 포도 한 알의 무게는 75g이고 딸기 한 알의 무게는 113.5g이다. 사용자로부터 포도 알의 개수와 딸기의 개수를 입력 받아 총 무게를 계산하여 출력하는 프로그램을 작성하고 실행하라.\n"
      ],
      "metadata": {
        "id": "k70Mav3R4skE"
      }
    },
    {
      "cell_type": "code",
      "source": [
        "sec = int(input(\"초를 입력하세요.: \"))\n",
        "\n",
        "min = sec // 60\n",
        "output_sec = sec % 60\n",
        "\n",
        "output = f\"{sec}은/는 {min}분 {output_sec}초입니다.\"\n",
        "print(output)"
      ],
      "metadata": {
        "colab": {
          "base_uri": "https://localhost:8080/"
        },
        "id": "z7mGJxpb5KhY",
        "outputId": "77e9a173-0d37-449a-cf1d-bd4687b88cbc"
      },
      "execution_count": null,
      "outputs": [
        {
          "output_type": "stream",
          "name": "stdout",
          "text": [
            "초를 입력하세요.: 200\n",
            "200은/는 3분 20초입니다.\n"
          ]
        }
      ]
    },
    {
      "cell_type": "code",
      "source": [
        "total_min = int(input(\"분을 입력하세요.: \"))\n",
        "\n",
        "d = total_min // (24 * 60)\n",
        "h = (total_min // 60) % 24\n",
        "m = total_min % 60\n",
        "print(f'{total_min}분은 {d}일 {h}시간 {m}분입니다.')"
      ],
      "metadata": {
        "colab": {
          "base_uri": "https://localhost:8080/"
        },
        "id": "wxqKjRyg6Imn",
        "outputId": "3706106c-2a6b-45da-8a4c-a62c46fa9264"
      },
      "execution_count": null,
      "outputs": [
        {
          "output_type": "stream",
          "name": "stdout",
          "text": [
            "분을 입력하세요.: 1550\n",
            "1550분은 1일 1시간 50분입니다.\n"
          ]
        }
      ]
    },
    {
      "cell_type": "code",
      "source": [
        "원금 = int(input(\"원금을 입력하세요.: \"))\n",
        "이율 = float(input(\"이율을 입력하세요.(%): \"))/100\n",
        "총액 = 원금*(1+이율)**5\n",
        "print(f\"5년 후의 총액은 {int(총액)}원입니다.\")"
      ],
      "metadata": {
        "colab": {
          "base_uri": "https://localhost:8080/"
        },
        "id": "5qo3U8lv7ZxT",
        "outputId": "10e2b78a-9ab5-40dd-96e7-20931c393d7c"
      },
      "execution_count": null,
      "outputs": [
        {
          "output_type": "stream",
          "name": "stdout",
          "text": [
            "원금을 입력하세요.: 5000000\n",
            "이율을 입력하세요.(%): 5\n",
            "5년 후의 총액은 6381407원입니다.\n"
          ]
        }
      ]
    },
    {
      "cell_type": "code",
      "source": [
        "n = 100\n",
        "total = n*(n+1)/2\n",
        "print(f\"1부터 100까지의 합은 {int(total)}입니다.\")"
      ],
      "metadata": {
        "colab": {
          "base_uri": "https://localhost:8080/"
        },
        "id": "3ad0g4Kf8kD7",
        "outputId": "3d12d74a-0082-42c6-bb6a-6fecf4fa0a2f"
      },
      "execution_count": null,
      "outputs": [
        {
          "output_type": "stream",
          "name": "stdout",
          "text": [
            "1부터 100까지의 합은 5050입니다.\n"
          ]
        }
      ]
    },
    {
      "cell_type": "code",
      "source": [
        "grapes = int(input(\"포도 알의 갯수를 입력하세요.: \"))\n",
        "berries = int(input(\"딸기 알의 갯수를 입력하세요.: \"))\n",
        "\n",
        "total_g = grapes * 75\n",
        "total_b = berries * 113.5\n",
        "total_weight = total_g + total_b\n",
        "print(f\"포도와 딸기의 총 무게는 {total_weight}g입니다.\")"
      ],
      "metadata": {
        "colab": {
          "base_uri": "https://localhost:8080/"
        },
        "id": "JyMoIAlR84H_",
        "outputId": "37b0e452-7964-46a2-a412-b70422ab3902"
      },
      "execution_count": null,
      "outputs": [
        {
          "output_type": "stream",
          "name": "stdout",
          "text": [
            "포도 알의 갯수를 입력하세요.: 20\n",
            "딸기 알의 갯수를 입력하세요.: 8\n",
            "포도와 딸기의 총 무게는 2408.0g입니다.\n"
          ]
        }
      ]
    },
    {
      "cell_type": "markdown",
      "source": [
        "조건문"
      ],
      "metadata": {
        "id": "c9QZLxGYBKXc"
      }
    },
    {
      "cell_type": "code",
      "source": [
        "# 사용자로부터 성적을 입력받아, 학점 부여하기\n",
        "score = int(input(\"성적을 입력하세요: \"))\n",
        "\n",
        "if score >= 90:\n",
        "    grade = \"A\"\n",
        "elif score >= 80:\n",
        "    grade = \"B\"\n",
        "elif score >= 70:\n",
        "    grade = \"C\"\n",
        "elif score >= 60:\n",
        "    grade = \"D\"\n",
        "else:\n",
        "    grade = \"F\"\n",
        "\n",
        "print(f\"당신의 학점은 {grade}입니다.\")\n"
      ],
      "metadata": {
        "colab": {
          "base_uri": "https://localhost:8080/"
        },
        "id": "XZhf3fSUBLeL",
        "outputId": "b378e2c1-6d5a-4bb9-b3fc-eba04320d2eb"
      },
      "execution_count": null,
      "outputs": [
        {
          "output_type": "stream",
          "name": "stdout",
          "text": [
            "성적을 입력하세요: 90\n",
            "당신의 학점은 A입니다.\n"
          ]
        }
      ]
    },
    {
      "cell_type": "code",
      "source": [
        "string = input(\"문자열을 입력하세요: \")\n",
        "length = len(string) if string else 0\n",
        "print(\"문자열의 길이는\", length, \"입니다.\")\n"
      ],
      "metadata": {
        "colab": {
          "base_uri": "https://localhost:8080/"
        },
        "id": "CvvSESyEDHSk",
        "outputId": "e7266dd3-5f74-4e47-a456-f274272085e6"
      },
      "execution_count": null,
      "outputs": [
        {
          "output_type": "stream",
          "name": "stdout",
          "text": [
            "문자열을 입력하세요: 안녕하세요.\n",
            "문자열의 길이는 6 입니다.\n"
          ]
        }
      ]
    },
    {
      "cell_type": "code",
      "source": [
        "국어 = int(input(\"국어 성적을 입력하십시오.: \"))\n",
        "영어 = int(input(\"영어 성적을 입력하십시오.: \"))\n",
        "수학 = int(input(\"수학 성적을 입력하십시오.: \"))\n",
        "가중치 = 국어*0.4+영어*0.4+수학*0.2\n",
        "평균 = float(가중치)\n",
        "\n",
        "if 평균 >= 90:\n",
        "  학점 = 'A'\n",
        "elif 평균 >= 80:\n",
        "  학점 = 'B'\n",
        "elif 평균 >= 70:\n",
        "  학점 = 'C'\n",
        "elif 평균 >= 60:\n",
        "  학점 = 'D'\n",
        "else:\n",
        "  학점 = 'F'\n",
        "\n",
        "result = f\"[성적 결과]\\n국어: {국어}점, 영어: {영어}점, 수학: {수학}점\\n총 평균 점수: {평균:.2f}점7\\n학점: {학점}\"\n",
        "print(result)"
      ],
      "metadata": {
        "colab": {
          "base_uri": "https://localhost:8080/"
        },
        "id": "OGSPZmFADiSl",
        "outputId": "d2e8408d-affc-4c81-9644-51cbdac1da17"
      },
      "execution_count": null,
      "outputs": [
        {
          "output_type": "stream",
          "name": "stdout",
          "text": [
            "국어 성적을 입력하십시오.: 89\n",
            "영어 성적을 입력하십시오.: 79\n",
            "수학 성적을 입력하십시오.: 0\n",
            "[성적 결과]\n",
            "국어: 89점, 영어: 79점, 수학: 0점\n",
            "총 평균 점수: 67.20점\n",
            "학점: D\n"
          ]
        }
      ]
    },
    {
      "cell_type": "code",
      "source": [
        "num = int(input(\"길이를 입력하세요.: \"))\n",
        "\n",
        "if num <= 0:\n",
        "  print(\"잘못 입력하였습니다.\")\n",
        "else:\n",
        "  cmIn = num / 2.54\n",
        "  print(f\"인치수로 변환하면 값은 다음과 같습니다.: {cmIn:.2f}In\")"
      ],
      "metadata": {
        "colab": {
          "base_uri": "https://localhost:8080/"
        },
        "id": "RqmvjBBKGYpp",
        "outputId": "b936e2e2-5c77-474d-c169-7f18af1941f1"
      },
      "execution_count": null,
      "outputs": [
        {
          "output_type": "stream",
          "name": "stdout",
          "text": [
            "길이를 입력하세요.: 200\n",
            "인치수로 변환하면 값은 다음과 같습니다.: 78.74In\n"
          ]
        }
      ]
    },
    {
      "cell_type": "code",
      "source": [
        "num = int(input(\"이수한 학점을 입력하세요.: \"))\n",
        "\n",
        "if num < 40:\n",
        "  print(\"1학년입니다.\")\n",
        "else:\n",
        "  if num < 80:\n",
        "    print(\"2학년입니다.\")\n",
        "  else:\n",
        "    print(\"졸업반입니다.\")"
      ],
      "metadata": {
        "colab": {
          "base_uri": "https://localhost:8080/"
        },
        "id": "sHMGDlqyHq7t",
        "outputId": "c511f46a-aee4-4ab1-d680-78369e78dedc"
      },
      "execution_count": null,
      "outputs": [
        {
          "output_type": "stream",
          "name": "stdout",
          "text": [
            "이수한 학점을 입력하세요.: 10\n",
            "1학년입니다.\n"
          ]
        }
      ]
    },
    {
      "cell_type": "code",
      "source": [
        "hour = int(input(\"Enter hour: \"))\n",
        "dN = int(input(\"am(1) or pm(2)?: \"))\n",
        "ahead = int(input(\"How many hours ahead?: \"))\n",
        "sum = hour + ahead\n",
        "time = (hour + ahead) % 12\n",
        "\n",
        "if dN == 1:\n",
        "  if sum < 12:\n",
        "    print(f\"New hour: {time} am\")\n",
        "  else:\n",
        "    print(f\"New hour: {time} pm\")\n",
        "\n",
        "if dN == 2:\n",
        "  if sum < 12:\n",
        "    print(f\"New hour: {time} pm\")\n",
        "  else:\n",
        "    print(f\"New hour: {time} am\")"
      ],
      "metadata": {
        "id": "mZeasEbMIYcm"
      },
      "execution_count": null,
      "outputs": []
    }
  ]
}